{
 "cells": [
  {
   "cell_type": "code",
   "execution_count": 1,
   "metadata": {},
   "outputs": [
    {
     "name": "stdout",
     "output_type": "stream",
     "text": [
      "50\n"
     ]
    }
   ],
   "source": [
    "a=20\n",
    "b=30\n",
    "add=a+b\n",
    "print(add)"
   ]
  },
  {
   "cell_type": "code",
   "execution_count": 2,
   "metadata": {},
   "outputs": [
    {
     "name": "stdout",
     "output_type": "stream",
     "text": [
      "addition: 50\n"
     ]
    }
   ],
   "source": [
    "a=20\n",
    "b=30\n",
    "add=a+b\n",
    "print('addition:', add)"
   ]
  },
  {
   "cell_type": "code",
   "execution_count": 6,
   "metadata": {},
   "outputs": [
    {
     "name": "stdout",
     "output_type": "stream",
     "text": [
      "addition = 20 + 30\n",
      "50\n"
     ]
    }
   ],
   "source": [
    "a=20\n",
    "b=30\n",
    "print(\"addition\",\"=\",a,\"+\",b)\n",
    "print(a+b)"
   ]
  },
  {
   "cell_type": "code",
   "execution_count": 18,
   "metadata": {},
   "outputs": [
    {
     "name": "stdout",
     "output_type": "stream",
     "text": [
      "20 + 30\n",
      "20 + 30 Addition = 50\n"
     ]
    }
   ],
   "source": [
    "a=20\n",
    "b=30\n",
    "addition=a+b\n",
    "print(a,\"+\",b)\n",
    "print(a,\"+\",b,\"Addition\",\"=\",addition)"
   ]
  },
  {
   "cell_type": "code",
   "execution_count": 1,
   "metadata": {},
   "outputs": [
    {
     "name": "stdout",
     "output_type": "stream",
     "text": [
      "Enter the values:10\n",
      "Enter the values:20\n",
      "30\n"
     ]
    }
   ],
   "source": [
    "a=int(input(\"Enter the values:\"))\n",
    "b=int(input(\"Enter the values:\"))\n",
    "print(a+b) "
   ]
  },
  {
   "cell_type": "code",
   "execution_count": 3,
   "metadata": {},
   "outputs": [
    {
     "name": "stdout",
     "output_type": "stream",
     "text": [
      "Enter the values:10\n",
      "Enter the values:20\n",
      "30\n",
      "<class 'int'>\n"
     ]
    }
   ],
   "source": [
    "a=int(input(\"Enter the values:\"))\n",
    "b=int(input(\"Enter the values:\"))\n",
    "print(a+b) \n",
    "print(type(a))"
   ]
  },
  {
   "cell_type": "code",
   "execution_count": 5,
   "metadata": {},
   "outputs": [
    {
     "name": "stdout",
     "output_type": "stream",
     "text": [
      "Enter the values:10\n",
      "Enter the values:2.3\n",
      "Enter the values:10\n",
      "22.3\n"
     ]
    }
   ],
   "source": [
    "x=int(input(\"Enter the values:\"))\n",
    "y=float(input(\"Enter the values:\"))\n",
    "z=int(input(\"Enter the values:\"))\n",
    "print(x+y+z)"
   ]
  },
  {
   "cell_type": "code",
   "execution_count": 7,
   "metadata": {},
   "outputs": [
    {
     "name": "stdout",
     "output_type": "stream",
     "text": [
      "Enter the values:10\n",
      "Enter the values:66\n",
      "Enter the values:36\n",
      "112.0\n"
     ]
    }
   ],
   "source": [
    "x=int(input(\"Enter the values:\"))\n",
    "y=float(input(\"Enter the values:\"))\n",
    "z=int(input(\"Enter the values:\"))\n",
    "print(x+y+z)"
   ]
  },
  {
   "cell_type": "code",
   "execution_count": 9,
   "metadata": {},
   "outputs": [
    {
     "name": "stdout",
     "output_type": "stream",
     "text": [
      "Enter the string:Annu\n",
      "Annu\n"
     ]
    }
   ],
   "source": [
    "v=input(\"Enter the string:\")\n",
    "print(v)"
   ]
  },
  {
   "cell_type": "code",
   "execution_count": 10,
   "metadata": {},
   "outputs": [
    {
     "ename": "SyntaxError",
     "evalue": "cannot assign to literal (Temp/ipykernel_8936/1902547417.py, line 1)",
     "output_type": "error",
     "traceback": [
      "\u001b[1;36m  File \u001b[1;32m\"C:\\Users\\Aniket\\AppData\\Local\\Temp/ipykernel_8936/1902547417.py\"\u001b[1;36m, line \u001b[1;32m1\u001b[0m\n\u001b[1;33m    10=input(\"Enter the string:\")\u001b[0m\n\u001b[1;37m    ^\u001b[0m\n\u001b[1;31mSyntaxError\u001b[0m\u001b[1;31m:\u001b[0m cannot assign to literal\n"
     ]
    }
   ],
   "source": [
    "10=input(\"Enter the string:\")\n",
    "print(10)"
   ]
  },
  {
   "cell_type": "code",
   "execution_count": 11,
   "metadata": {},
   "outputs": [
    {
     "ename": "SyntaxError",
     "evalue": "cannot assign to literal (Temp/ipykernel_8936/515122293.py, line 1)",
     "output_type": "error",
     "traceback": [
      "\u001b[1;36m  File \u001b[1;32m\"C:\\Users\\Aniket\\AppData\\Local\\Temp/ipykernel_8936/515122293.py\"\u001b[1;36m, line \u001b[1;32m1\u001b[0m\n\u001b[1;33m    10=int(input(\"Enter the values:\"))\u001b[0m\n\u001b[1;37m    ^\u001b[0m\n\u001b[1;31mSyntaxError\u001b[0m\u001b[1;31m:\u001b[0m cannot assign to literal\n"
     ]
    }
   ],
   "source": [
    "10=int(input(\"Enter the values:\"))\n",
    "print(10)"
   ]
  },
  {
   "cell_type": "code",
   "execution_count": 12,
   "metadata": {},
   "outputs": [
    {
     "name": "stdout",
     "output_type": "stream",
     "text": [
      "Enter the values:25\n",
      "25\n"
     ]
    }
   ],
   "source": [
    "ab=int(input(\"Enter the values:\"))\n",
    "print(ab)"
   ]
  },
  {
   "cell_type": "code",
   "execution_count": 13,
   "metadata": {},
   "outputs": [
    {
     "name": "stdout",
     "output_type": "stream",
     "text": [
      "Enter the radius2\n",
      "12.568\n"
     ]
    }
   ],
   "source": [
    "r=int(input(\"Enter the radius\"))\n",
    "area=3.142*r*r\n",
    "print(area)"
   ]
  },
  {
   "cell_type": "code",
   "execution_count": 14,
   "metadata": {},
   "outputs": [
    {
     "name": "stdout",
     "output_type": "stream",
     "text": [
      "Enter the stringAnusha\n",
      "Enter the stringKolaki\n",
      "a b\n"
     ]
    }
   ],
   "source": [
    "a=input(\"Enter the string\")\n",
    "b=input(\"Enter the string\")\n",
    "print(\"a\",\"b\")"
   ]
  },
  {
   "cell_type": "code",
   "execution_count": 1,
   "metadata": {},
   "outputs": [
    {
     "name": "stdout",
     "output_type": "stream",
     "text": [
      "Enter the string:Anusha\n",
      "Enter the string:kolaki\n",
      "Anusha kolaki\n"
     ]
    }
   ],
   "source": [
    "a=input(\"Enter the string:\")\n",
    "b=input(\"Enter the string:\")\n",
    "print(a,b)"
   ]
  },
  {
   "cell_type": "code",
   "execution_count": 2,
   "metadata": {},
   "outputs": [
    {
     "name": "stdout",
     "output_type": "stream",
     "text": [
      "50\n",
      "-10\n",
      "600\n",
      "0.6666666666666666\n"
     ]
    }
   ],
   "source": [
    "a=20\n",
    "b=30\n",
    "add=a+b\n",
    "print(add)\n",
    "\n",
    "a=20\n",
    "b=30\n",
    "sub=a-b\n",
    "print(sub)\n",
    "\n",
    "a=20\n",
    "b=30\n",
    "mul=a*b\n",
    "print(mul)\n",
    "\n",
    "a=20\n",
    "b=30\n",
    "div=a/b\n",
    "print(div)"
   ]
  },
  {
   "cell_type": "code",
   "execution_count": 1,
   "metadata": {},
   "outputs": [
    {
     "name": "stdout",
     "output_type": "stream",
     "text": [
      "Enter the values:10\n",
      "Enter the values:20\n",
      "Addition: 30\n",
      "Enter the values:25\n",
      "Enter the values:36\n",
      "Substraction -11\n",
      "Enter the values:11\n",
      "Enter the values:54\n",
      "Multiplication 594\n",
      "Enter the values:55\n",
      "Enter the values:44\n",
      "Division 1.25\n"
     ]
    }
   ],
   "source": [
    "a=int(input(\"Enter the values:\"))\n",
    "b=int(input(\"Enter the values:\"))\n",
    "print(\"Addition:\",a+b) \n",
    "\n",
    "a=int(input(\"Enter the values:\"))\n",
    "b=int(input(\"Enter the values:\"))\n",
    "print(\"Substraction\",a-b) \n",
    "\n",
    "a=int(input(\"Enter the values:\"))\n",
    "b=int(input(\"Enter the values:\"))\n",
    "print(\"Multiplication\",a*b) \n",
    "\n",
    "a=int(input(\"Enter the values:\"))\n",
    "b=int(input(\"Enter the values:\"))\n",
    "print(\"Division\",a/b) "
   ]
  },
  {
   "cell_type": "code",
   "execution_count": 4,
   "metadata": {},
   "outputs": [
    {
     "name": "stdout",
     "output_type": "stream",
     "text": [
      "Enter the values:20\n",
      "Enter the values:21\n",
      "41\n",
      "-1\n",
      "420\n",
      "0.9523809523809523\n"
     ]
    }
   ],
   "source": [
    "a=int(input(\"Enter the values:\"))\n",
    "b=int(input(\"Enter the values:\"))\n",
    "print(a+b)\n",
    "print(a-b)\n",
    "print(a*b)\n",
    "print(a/b)"
   ]
  },
  {
   "cell_type": "code",
   "execution_count": 6,
   "metadata": {},
   "outputs": [
    {
     "name": "stdout",
     "output_type": "stream",
     "text": [
      "Enter the values:2\n",
      "Enter the values:3\n",
      "3.0\n"
     ]
    }
   ],
   "source": [
    "b=int(input(\"Enter the values:\"))\n",
    "h=int(input(\"Enter the values:\"))\n",
    "triangle=0.5*b*h\n",
    "print(triangle)"
   ]
  },
  {
   "cell_type": "code",
   "execution_count": 2,
   "metadata": {},
   "outputs": [
    {
     "name": "stdout",
     "output_type": "stream",
     "text": [
      "Enter the area of squre:4\n",
      "16\n"
     ]
    }
   ],
   "source": [
    "s=int(input(\"Enter the area of squre:\"))\n",
    "squre=s*s\n",
    "print(squre)"
   ]
  },
  {
   "cell_type": "code",
   "execution_count": 5,
   "metadata": {},
   "outputs": [
    {
     "name": "stdout",
     "output_type": "stream",
     "text": [
      "Enter the length:5\n",
      "Enter the width:4\n",
      "18\n"
     ]
    }
   ],
   "source": [
    "l=int(input(\"Enter the length:\"))\n",
    "w=int(input(\"Enter the width:\"))\n",
    "rectangle=2*l+2*w\n",
    "print(rectangle)"
   ]
  },
  {
   "cell_type": "code",
   "execution_count": 4,
   "metadata": {},
   "outputs": [
    {
     "name": "stdout",
     "output_type": "stream",
     "text": [
      "Enter the radius5\n",
      "78.55\n"
     ]
    }
   ],
   "source": [
    "r=int(input(\"Enter the radius\"))\n",
    "p=3.142\n",
    "area=p*r*r\n",
    "print(area)"
   ]
  },
  {
   "cell_type": "code",
   "execution_count": 8,
   "metadata": {},
   "outputs": [
    {
     "name": "stdout",
     "output_type": "stream",
     "text": [
      "Enter the values:12\n",
      "<class 'float'>\n",
      "12.0\n"
     ]
    }
   ],
   "source": [
    "a=float(input(\"Enter the values:\"))\n",
    "#b=int(input(\"Enter the values:\"))\n",
    "print(type(a))\n",
    "print(a)"
   ]
  },
  {
   "cell_type": "code",
   "execution_count": 11,
   "metadata": {},
   "outputs": [
    {
     "name": "stdout",
     "output_type": "stream",
     "text": [
      "Enter the string:hii\n",
      "<class 'str'>\n",
      "hii\n"
     ]
    }
   ],
   "source": [
    "a=input(\"Enter the string:\")\n",
    "print(type(a))\n",
    "print(a)"
   ]
  },
  {
   "cell_type": "code",
   "execution_count": 12,
   "metadata": {},
   "outputs": [
    {
     "name": "stdout",
     "output_type": "stream",
     "text": [
      "30\n"
     ]
    }
   ],
   "source": [
    "a=10\n",
    "b=20\n",
    "print(a+b)\n"
   ]
  },
  {
   "cell_type": "code",
   "execution_count": 13,
   "metadata": {},
   "outputs": [
    {
     "name": "stdout",
     "output_type": "stream",
     "text": [
      "12.2\n"
     ]
    }
   ],
   "source": [
    "a=2.2\n",
    "b=10\n",
    "c=a+b\n",
    "print(c)"
   ]
  },
  {
   "cell_type": "code",
   "execution_count": 14,
   "metadata": {},
   "outputs": [
    {
     "name": "stdout",
     "output_type": "stream",
     "text": [
      "12.2\n"
     ]
    }
   ],
   "source": [
    "print(a+10)"
   ]
  },
  {
   "cell_type": "code",
   "execution_count": 15,
   "metadata": {},
   "outputs": [
    {
     "name": "stdout",
     "output_type": "stream",
     "text": [
      "<class 'int'>\n"
     ]
    }
   ],
   "source": [
    "a=10\n",
    "print(type(a))"
   ]
  },
  {
   "cell_type": "code",
   "execution_count": 16,
   "metadata": {},
   "outputs": [
    {
     "name": "stdout",
     "output_type": "stream",
     "text": [
      "<class 'float'>\n"
     ]
    }
   ],
   "source": [
    "a=3.3\n",
    "print(type(a))"
   ]
  },
  {
   "cell_type": "code",
   "execution_count": 17,
   "metadata": {},
   "outputs": [
    {
     "name": "stdout",
     "output_type": "stream",
     "text": [
      "<class 'str'>\n"
     ]
    }
   ],
   "source": [
    "a=\"10\"\n",
    "print(type(a))"
   ]
  },
  {
   "cell_type": "code",
   "execution_count": 18,
   "metadata": {},
   "outputs": [
    {
     "ename": "SyntaxError",
     "evalue": "invalid syntax (Temp/ipykernel_4780/2497053111.py, line 1)",
     "output_type": "error",
     "traceback": [
      "\u001b[1;36m  File \u001b[1;32m\"C:\\Users\\Aniket\\AppData\\Local\\Temp/ipykernel_4780/2497053111.py\"\u001b[1;36m, line \u001b[1;32m1\u001b[0m\n\u001b[1;33m    print(hello world)\u001b[0m\n\u001b[1;37m                ^\u001b[0m\n\u001b[1;31mSyntaxError\u001b[0m\u001b[1;31m:\u001b[0m invalid syntax\n"
     ]
    }
   ],
   "source": [
    "print(hello world)"
   ]
  },
  {
   "cell_type": "code",
   "execution_count": 19,
   "metadata": {},
   "outputs": [
    {
     "name": "stdout",
     "output_type": "stream",
     "text": [
      "hello world\n"
     ]
    }
   ],
   "source": [
    "print(\"hello world\")\n"
   ]
  },
  {
   "cell_type": "code",
   "execution_count": 20,
   "metadata": {},
   "outputs": [
    {
     "name": "stdout",
     "output_type": "stream",
     "text": [
      "pune\n"
     ]
    }
   ],
   "source": [
    "city=\"pune\"\n",
    "print(city)"
   ]
  },
  {
   "cell_type": "code",
   "execution_count": 21,
   "metadata": {},
   "outputs": [
    {
     "name": "stdout",
     "output_type": "stream",
     "text": [
      "<class 'str'>\n"
     ]
    }
   ],
   "source": [
    "a=\"10ABC\"\n",
    "print(type(a))"
   ]
  },
  {
   "cell_type": "code",
   "execution_count": 22,
   "metadata": {},
   "outputs": [
    {
     "name": "stdout",
     "output_type": "stream",
     "text": [
      "enter the value:50\n",
      "enter the value:50\n",
      "5050\n"
     ]
    }
   ],
   "source": [
    "a=input(\"enter the value:\")\n",
    "b=input(\"enter the value:\")\n",
    "print(a+b)\n"
   ]
  },
  {
   "cell_type": "code",
   "execution_count": 23,
   "metadata": {},
   "outputs": [
    {
     "name": "stdout",
     "output_type": "stream",
     "text": [
      "enter the value:70\n",
      "enter the value:70\n",
      "140\n"
     ]
    }
   ],
   "source": [
    "a=int(input(\"enter the value:\"))\n",
    "b=int(input(\"enter the value:\"))\n",
    "print(a+b)\n"
   ]
  },
  {
   "cell_type": "code",
   "execution_count": 25,
   "metadata": {},
   "outputs": [
    {
     "name": "stdout",
     "output_type": "stream",
     "text": [
      "enter the value:3.3\n",
      "enter the value:70\n",
      "73.3\n",
      "<class 'float'>\n",
      "<class 'int'>\n"
     ]
    }
   ],
   "source": [
    "a=float(input(\"enter the value:\"))\n",
    "b=int(input(\"enter the value:\"))\n",
    "print(a+b)\n",
    "print(type(a))\n",
    "print(type(b))"
   ]
  },
  {
   "cell_type": "markdown",
   "metadata": {},
   "source": [
    "a=int(input(\"this is\"))\n",
    "b=float(input(\"this is \"))\n",
    "print(a+b)"
   ]
  },
  {
   "cell_type": "code",
   "execution_count": 1,
   "metadata": {},
   "outputs": [
    {
     "name": "stdout",
     "output_type": "stream",
     "text": [
      "enter the value:7\n",
      "Area of circle: 153.86\n"
     ]
    }
   ],
   "source": [
    "r=int(input(\"enter the value:\"))\n",
    "area=3.14*r*r\n",
    "print(\"Area of circle:\",area)"
   ]
  },
  {
   "cell_type": "code",
   "execution_count": 2,
   "metadata": {},
   "outputs": [
    {
     "name": "stdout",
     "output_type": "stream",
     "text": [
      "100\n"
     ]
    }
   ],
   "source": [
    "a=10\n",
    "b=20\n",
    "c=30\n",
    "d=40\n",
    "e=a+b+c+d\n",
    "print(e)"
   ]
  },
  {
   "cell_type": "code",
   "execution_count": 3,
   "metadata": {},
   "outputs": [
    {
     "name": "stdout",
     "output_type": "stream",
     "text": [
      "hey pune's\n"
     ]
    }
   ],
   "source": [
    "print(\"hey pune's\")"
   ]
  },
  {
   "cell_type": "code",
   "execution_count": 4,
   "metadata": {},
   "outputs": [
    {
     "name": "stdout",
     "output_type": "stream",
     "text": [
      "hey pune\n"
     ]
    }
   ],
   "source": [
    "print('hey pune')"
   ]
  },
  {
   "cell_type": "code",
   "execution_count": 6,
   "metadata": {},
   "outputs": [
    {
     "name": "stdout",
     "output_type": "stream",
     "text": [
      "exprienced programmers in any other languagecan pick up python very quickly,and indentationstructure easy to learn\n"
     ]
    }
   ],
   "source": [
    "print(\"\"\"exprienced programmers in any other languagecan pick up python very quickly,and indentationstructure easy to learn\"\"\")"
   ]
  },
  {
   "cell_type": "code",
   "execution_count": 1,
   "metadata": {},
   "outputs": [
    {
     "name": "stdout",
     "output_type": "stream",
     "text": [
      "Addidtion 0.5 Substraction 0.5 Multiplication 0.5 Devision 0.5\n"
     ]
    }
   ],
   "source": [
    "a=10\n",
    "b=20\n",
    "c=a+b\n",
    "c=a-b\n",
    "c=a*b\n",
    "c=a/b\n",
    "print(\"Addidtion\",c,\"Substraction\",c,\"Multiplication\",c,\"Devision\",c)"
   ]
  },
  {
   "cell_type": "code",
   "execution_count": 3,
   "metadata": {},
   "outputs": [
    {
     "name": "stdout",
     "output_type": "stream",
     "text": [
      "Addidtion 30 Substraction -10 Multiplication 200 Devision 0.5\n"
     ]
    }
   ],
   "source": [
    "a=10\n",
    "b=20\n",
    "c=a+b\n",
    "d=a-b\n",
    "e=a*b\n",
    "f=a/b\n",
    "print(\"Addidtion\",c,\"Substraction\",d,\"Multiplication\",e,\"Devision\",f)"
   ]
  },
  {
   "cell_type": "code",
   "execution_count": 4,
   "metadata": {},
   "outputs": [
    {
     "name": "stdout",
     "output_type": "stream",
     "text": [
      "Addidtion 30 Substraction -10 Multiplication 200 Devision 0.5\n"
     ]
    }
   ],
   "source": [
    "a=10\n",
    "b=20\n",
    "print(\"Addidtion\",a+b,\"Substraction\",a-b,\"Multiplication\",a*b,\"Devision\",a/b)"
   ]
  },
  {
   "cell_type": "code",
   "execution_count": null,
   "metadata": {},
   "outputs": [],
   "source": []
  }
 ],
 "metadata": {
  "kernelspec": {
   "display_name": "Python 3",
   "language": "python",
   "name": "python3"
  },
  "language_info": {
   "codemirror_mode": {
    "name": "ipython",
    "version": 3
   },
   "file_extension": ".py",
   "mimetype": "text/x-python",
   "name": "python",
   "nbconvert_exporter": "python",
   "pygments_lexer": "ipython3",
   "version": "3.6.5"
  }
 },
 "nbformat": 4,
 "nbformat_minor": 2
}
