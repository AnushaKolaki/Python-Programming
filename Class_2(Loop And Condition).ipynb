{
 "cells": [
  {
   "cell_type": "markdown",
   "metadata": {},
   "source": [
    "# for loop"
   ]
  },
  {
   "cell_type": "code",
   "execution_count": 2,
   "metadata": {},
   "outputs": [
    {
     "name": "stdout",
     "output_type": "stream",
     "text": [
      "0\n",
      "1\n",
      "2\n",
      "3\n",
      "4\n"
     ]
    }
   ],
   "source": [
    "for x in range(5):\n",
    "    print(x)"
   ]
  },
  {
   "cell_type": "code",
   "execution_count": 5,
   "metadata": {},
   "outputs": [
    {
     "name": "stdout",
     "output_type": "stream",
     "text": [
      "a\n",
      "b\n",
      "c\n",
      "d\n",
      "e\n"
     ]
    }
   ],
   "source": [
    "for s in \"abcde\":\n",
    "    print(s)"
   ]
  },
  {
   "cell_type": "code",
   "execution_count": 8,
   "metadata": {},
   "outputs": [
    {
     "name": "stdout",
     "output_type": "stream",
     "text": [
      "Annu\n",
      "Annu\n",
      "Annu\n",
      "Annu\n"
     ]
    }
   ],
   "source": [
    "s=\"Annu\"\n",
    "for a in s:\n",
    "    print(s)"
   ]
  },
  {
   "cell_type": "code",
   "execution_count": 14,
   "metadata": {},
   "outputs": [
    {
     "name": "stdout",
     "output_type": "stream",
     "text": [
      "A\n",
      "n\n",
      "n\n",
      "u\n"
     ]
    }
   ],
   "source": [
    "s=\"Annu\"\n",
    "for a in s:\n",
    "    print(a)"
   ]
  },
  {
   "cell_type": "code",
   "execution_count": 2,
   "metadata": {},
   "outputs": [
    {
     "name": "stdout",
     "output_type": "stream",
     "text": [
      "Enter the values2\n",
      "Enter the values4\n",
      "Addition: 6\n",
      "<class 'int'>\n",
      "<class 'int'>\n",
      "....................\n",
      "Addition: 6\n",
      "<class 'int'>\n",
      "<class 'int'>\n",
      "....................\n",
      "Addition: 6\n",
      "<class 'int'>\n",
      "<class 'int'>\n",
      "....................\n"
     ]
    }
   ],
   "source": [
    "a=int(input(\"Enter the values\"))\n",
    "b=int(input(\"Enter the values\"))\n",
    "for x in range(3):\n",
    "    print(\"Addition:\",a+b)\n",
    "    print(type(a))\n",
    "    print(type(b))\n",
    "    print(\"....................\")"
   ]
  },
  {
   "cell_type": "code",
   "execution_count": 3,
   "metadata": {},
   "outputs": [
    {
     "name": "stdout",
     "output_type": "stream",
     "text": [
      "r\n",
      "Addition: 30\n",
      "a\n",
      "Addition: 30\n",
      "c\n",
      "Addition: 30\n",
      "k\n",
      "Addition: 30\n",
      "s\n",
      "Addition: 30\n",
      "o\n",
      "Addition: 30\n",
      "n\n",
      "Addition: 30\n",
      "s\n",
      "Addition: 30\n",
      "i\n",
      "Addition: 30\n",
      "t\n",
      "Addition: 30\n"
     ]
    }
   ],
   "source": [
    "a=\"racksonsit\"\n",
    "for z in a:\n",
    "    print(z)\n",
    "    a=10\n",
    "    b=20\n",
    "    print(\"Addition:\",a+b)"
   ]
  },
  {
   "cell_type": "code",
   "execution_count": 12,
   "metadata": {},
   "outputs": [
    {
     "name": "stdout",
     "output_type": "stream",
     "text": [
      "Enter the number:25\n",
      "25\n",
      "50\n",
      "75\n",
      "100\n",
      "125\n",
      "150\n",
      "175\n",
      "200\n",
      "225\n",
      "250\n"
     ]
    }
   ],
   "source": [
    "n=int(input(\"Enter the number:\"))\n",
    "for x in range(n,n*11,n):\n",
    "    print(x)"
   ]
  },
  {
   "cell_type": "code",
   "execution_count": 20,
   "metadata": {},
   "outputs": [
    {
     "name": "stdout",
     "output_type": "stream",
     "text": [
      "Enter the name:Anvi\n",
      "vAnvi\n",
      "Enter the name:sadhana\n",
      "dsadhana\n",
      "Enter the name:Sachin\n",
      "cSachin\n",
      "Enter the name:Sandeep\n",
      "nSandeep\n",
      "Enter the name:Ashwik\n",
      "hAshwik\n"
     ]
    }
   ],
   "source": [
    "for x in range(5):\n",
    "    name=input(\"Enter the name:\")\n",
    "    a=name[2:3]\n",
    "    print(a+name)"
   ]
  },
  {
   "cell_type": "markdown",
   "metadata": {},
   "source": [
    "# Nested for loop"
   ]
  },
  {
   "cell_type": "code",
   "execution_count": 8,
   "metadata": {},
   "outputs": [
    {
     "name": "stdout",
     "output_type": "stream",
     "text": [
      "0\n",
      "1\n",
      "2\n",
      "3\n",
      "4\n",
      "0\n",
      "1\n",
      "2\n",
      "3\n",
      "4\n",
      "0\n",
      "1\n",
      "2\n",
      "3\n",
      "4\n",
      "0\n",
      "1\n",
      "2\n",
      "3\n",
      "4\n",
      "0\n",
      "1\n",
      "2\n",
      "3\n",
      "4\n",
      "0\n",
      "1\n",
      "2\n",
      "3\n",
      "4\n",
      "0\n",
      "1\n",
      "2\n",
      "3\n",
      "4\n",
      "0\n",
      "1\n",
      "2\n",
      "3\n",
      "4\n",
      "0\n",
      "1\n",
      "2\n",
      "3\n",
      "4\n",
      "0\n",
      "1\n",
      "2\n",
      "3\n",
      "4\n"
     ]
    }
   ],
   "source": [
    "for x in range(10):\n",
    "    for y in range(5):\n",
    "        print(y)"
   ]
  },
  {
   "cell_type": "code",
   "execution_count": 14,
   "metadata": {},
   "outputs": [
    {
     "name": "stdout",
     "output_type": "stream",
     "text": [
      "Enter the subjects:2\n",
      "Enter the marks:45\n",
      "Enter the marks:54\n",
      "My marks: [45, 54]\n",
      "My total marks: 99\n",
      "My average is: 49.5\n",
      "[45, 54, 99, 49.5]\n",
      "....................\n",
      "Enter the subjects:2\n",
      "Enter the marks:44\n",
      "Enter the marks:74\n",
      "My marks: [44, 74]\n",
      "My total marks: 118\n",
      "My average is: 59.0\n",
      "[44, 74, 118, 59.0]\n",
      "....................\n",
      "Enter the subjects:2\n",
      "Enter the marks:78\n",
      "Enter the marks:98\n",
      "My marks: [78, 98]\n",
      "My total marks: 176\n",
      "My average is: 88.0\n",
      "[78, 98, 176, 88.0]\n",
      "....................\n",
      "Enter the subjects:2\n",
      "Enter the marks:77\n",
      "Enter the marks:87\n",
      "My marks: [77, 87]\n",
      "My total marks: 164\n",
      "My average is: 82.0\n",
      "[77, 87, 164, 82.0]\n",
      "....................\n",
      "Enter the subjects:2\n",
      "Enter the marks:44\n",
      "Enter the marks:55\n",
      "My marks: [44, 55]\n",
      "My total marks: 99\n",
      "My average is: 49.5\n",
      "[44, 55, 99, 49.5]\n",
      "....................\n"
     ]
    }
   ],
   "source": [
    "names=[\"Anusha\",\"Asha\",\"Aniket\",\"Sneha\",\"Vishwa\"]\n",
    "marks=[]\n",
    "for x in names:\n",
    "    count=int(input(\"Enter the subjects:\"))\n",
    "    for y in range(count):\n",
    "        m=int(input(\"Enter the marks:\"))\n",
    "        marks.append(m)\n",
    "    print(\"My marks:\",marks)\n",
    "    total=sum(marks)\n",
    "    avg=total/count\n",
    "    print(\"My total marks:\",total)\n",
    "    marks.append(total)\n",
    "    print(\"My average is:\",avg)\n",
    "    marks.append(avg)\n",
    "    print(marks)\n",
    "    marks.clear()\n",
    "    print(\"....................\")"
   ]
  },
  {
   "cell_type": "code",
   "execution_count": 18,
   "metadata": {},
   "outputs": [
    {
     "name": "stdout",
     "output_type": "stream",
     "text": [
      "Pune\n",
      "Pune\n",
      "Pune\n",
      "Pune\n",
      "Mumbai\n",
      "Mumbai\n",
      "Mumbai\n",
      "Mumbai\n",
      "Mumbai\n",
      "Mumbai\n"
     ]
    }
   ],
   "source": [
    "city=[\"Pune\",\"Mumbai\"]\n",
    "for x in city:\n",
    "    for y in x:\n",
    "        print(x)"
   ]
  },
  {
   "cell_type": "code",
   "execution_count": 19,
   "metadata": {},
   "outputs": [
    {
     "name": "stdout",
     "output_type": "stream",
     "text": [
      "P\n",
      "u\n",
      "n\n",
      "e\n",
      "M\n",
      "u\n",
      "m\n",
      "b\n",
      "a\n",
      "i\n"
     ]
    }
   ],
   "source": [
    "city=[\"Pune\",\"Mumbai\"]\n",
    "for x in city:\n",
    "    for y in x:\n",
    "        print(y)"
   ]
  },
  {
   "cell_type": "markdown",
   "metadata": {},
   "source": [
    "# If else condition"
   ]
  },
  {
   "cell_type": "code",
   "execution_count": 12,
   "metadata": {},
   "outputs": [
    {
     "name": "stdout",
     "output_type": "stream",
     "text": [
      "Even\n"
     ]
    }
   ],
   "source": [
    "x=0\n",
    "if (x%2)==0:\n",
    "    print(\"Even\")\n",
    "else:\n",
    "    print(\"Odd\")"
   ]
  },
  {
   "cell_type": "code",
   "execution_count": 10,
   "metadata": {},
   "outputs": [
    {
     "name": "stdout",
     "output_type": "stream",
     "text": [
      "Enter the a value:2\n",
      "Even\n"
     ]
    }
   ],
   "source": [
    "a=int(input(\"Enter the a value:\"))\n",
    "if a%2==0:\n",
    "    print(\"Even\")\n",
    "else:\n",
    "    print(\"Odd\")"
   ]
  },
  {
   "cell_type": "code",
   "execution_count": 9,
   "metadata": {},
   "outputs": [
    {
     "name": "stdout",
     "output_type": "stream",
     "text": [
      "Enter the a value:10\n",
      "Enter the b value:10\n",
      "Thses both are equal\n"
     ]
    }
   ],
   "source": [
    "a=int(input(\"Enter the a value:\"))\n",
    "b=int(input(\"Enter the b value:\"))\n",
    "if a==b:\n",
    "    print(\"Thses both are equal\")\n",
    "else:\n",
    "    print(\"Thses both are not equal\")"
   ]
  },
  {
   "cell_type": "code",
   "execution_count": 10,
   "metadata": {},
   "outputs": [
    {
     "name": "stdout",
     "output_type": "stream",
     "text": [
      "Odd\n"
     ]
    }
   ],
   "source": [
    "y=1\n",
    "if y%3==0:\n",
    "    print(\"Even\")\n",
    "else:\n",
    "    print(\"Odd\")"
   ]
  },
  {
   "cell_type": "code",
   "execution_count": 43,
   "metadata": {},
   "outputs": [
    {
     "name": "stdout",
     "output_type": "stream",
     "text": [
      "Dog\n"
     ]
    }
   ],
   "source": [
    "a=2\n",
    "b=5\n",
    "if a==2 and b==4:\n",
    "    print(\"Cat\")\n",
    "else:\n",
    "    print(\"Dog\")"
   ]
  },
  {
   "cell_type": "code",
   "execution_count": 45,
   "metadata": {},
   "outputs": [
    {
     "name": "stdout",
     "output_type": "stream",
     "text": [
      "Cat\n"
     ]
    }
   ],
   "source": [
    "a=2\n",
    "b=5\n",
    "if a==2 or b==5:\n",
    "    print(\"Cat\")\n",
    "else:\n",
    "    print(\"Dog\")"
   ]
  },
  {
   "cell_type": "code",
   "execution_count": 4,
   "metadata": {},
   "outputs": [
    {
     "name": "stdout",
     "output_type": "stream",
     "text": [
      "Enter 1st number10\n",
      "Enter 2nd number7\n",
      "Not divisible\n"
     ]
    }
   ],
   "source": [
    "a=int(input(\"Enter 1st number\"))\n",
    "b=int(input(\"Enter 2nd number\"))\n",
    "if a%b==0:\n",
    "    print(\"Divisible\")\n",
    "else:\n",
    "    print(\"Not divisible\")"
   ]
  },
  {
   "cell_type": "code",
   "execution_count": 4,
   "metadata": {},
   "outputs": [
    {
     "name": "stdout",
     "output_type": "stream",
     "text": [
      "Enter the age:19\n",
      "Eligble to vote\n"
     ]
    }
   ],
   "source": [
    "n=int(input(\"Enter the age:\"))\n",
    "if n>=18:\n",
    "    print(\"Eligble to vote\")\n",
    "else:\n",
    "    print(\"Not eligible to vote\")"
   ]
  },
  {
   "cell_type": "code",
   "execution_count": 5,
   "metadata": {},
   "outputs": [
    {
     "name": "stdout",
     "output_type": "stream",
     "text": [
      "enter the number20\n",
      "Pune\n"
     ]
    }
   ],
   "source": [
    "a=int(input(\"enter the number\"))\n",
    "if a==10:\n",
    "    print(\"Nipani\")\n",
    "elif a==20:\n",
    "    print(\"Pune\")\n",
    "elif a==30:\n",
    "    print(\"Belgavi\")\n",
    "else:\n",
    "    print(\"This is not city\")"
   ]
  },
  {
   "cell_type": "code",
   "execution_count": 11,
   "metadata": {},
   "outputs": [
    {
     "name": "stdout",
     "output_type": "stream",
     "text": [
      "Enter the marks:54\n",
      "Second class\n"
     ]
    }
   ],
   "source": [
    "marks=int(input(\"Enter the marks:\"))\n",
    "if marks>=85 and marks<=99:\n",
    "    print(\"Distinction\")\n",
    "elif marks>=70 and marks<=85:\n",
    "    print(\"First class with Distinction\")\n",
    "elif marks>=60 and marks<=70:\n",
    "    print(\"First class\")\n",
    "elif marks>=50 and marks<=60:\n",
    "    print(\"Second class\")\n",
    "elif marks>=40 and marks<=50:\n",
    "    print(\"Third class\")\n",
    "elif marks>=35 and marks<=40:\n",
    "    print(\"Just pass\")\n",
    "else:\n",
    "    print(\"Fail\")"
   ]
  },
  {
   "cell_type": "markdown",
   "metadata": {},
   "source": [
    "# In for loop if else condition"
   ]
  },
  {
   "cell_type": "code",
   "execution_count": 17,
   "metadata": {},
   "outputs": [
    {
     "name": "stdout",
     "output_type": "stream",
     "text": [
      "Enter the size:9\n",
      "Enter the number:5\n",
      "odd\n",
      "odd\n",
      "odd\n",
      "odd\n",
      "odd\n",
      "odd\n",
      "odd\n",
      "odd\n",
      "odd\n"
     ]
    }
   ],
   "source": [
    "n=int(input(\"Enter the size:\"))\n",
    "a=int(input(\"Enter the number:\"))\n",
    "for x in range(n):\n",
    "    if a%2==0:\n",
    "        print(\"Even\")\n",
    "    else:\n",
    "        print(\"odd\")"
   ]
  },
  {
   "cell_type": "code",
   "execution_count": 6,
   "metadata": {},
   "outputs": [
    {
     "name": "stdout",
     "output_type": "stream",
     "text": [
      "Machine Learning\n",
      ".....................\n",
      "Machine Learning\n",
      ".....................\n",
      "Artificial Intelligence\n",
      ".....................\n"
     ]
    }
   ],
   "source": [
    "for a in range(3):\n",
    "    if a==2:\n",
    "        print(\"Artificial Intelligence\")\n",
    "    else:\n",
    "        print(\"Machine Learning\")\n",
    "    print(\".....................\")"
   ]
  },
  {
   "cell_type": "code",
   "execution_count": 7,
   "metadata": {},
   "outputs": [
    {
     "name": "stdout",
     "output_type": "stream",
     "text": [
      "Machine Learning\n",
      ".....................\n"
     ]
    }
   ],
   "source": [
    "for a in range(3):\n",
    "    if a==2:\n",
    "        print(\"Artificial Intelligence\")\n",
    "       \n",
    "    else:\n",
    "        print(\"Machine Learning\")\n",
    "    print(\".....................\")\n",
    "    break"
   ]
  },
  {
   "cell_type": "code",
   "execution_count": 15,
   "metadata": {},
   "outputs": [
    {
     "name": "stdout",
     "output_type": "stream",
     "text": [
      "city is odd: Belguam\n",
      "city is even: Nipani\n",
      "city is odd: Gokak\n",
      "city is even: Banglore\n",
      "city is even: Kolhapur\n"
     ]
    }
   ],
   "source": [
    "city=[\"Belguam\",\"Nipani\",\"Gokak\",\"Banglore\",\"Kolhapur\"]\n",
    "for a in city:\n",
    "    ab=len(a)\n",
    "    if ab%2==0:\n",
    "        print(\"city is even:\",a)\n",
    "    else:\n",
    "        print(\"city is odd:\",a)"
   ]
  },
  {
   "cell_type": "code",
   "execution_count": 16,
   "metadata": {},
   "outputs": [
    {
     "name": "stdout",
     "output_type": "stream",
     "text": [
      "Enter the girls name:Anusha\n",
      "6\n",
      "Enter the girls name:Neha\n",
      "4\n",
      "Enter the girls name:Swati\n",
      "5\n",
      "Enter the boys name:Aniket\n",
      "6\n",
      "Enter the boys name:Vishwa\n",
      "6\n",
      "Enter the boys name:Mallikarjun\n",
      "11\n",
      "Enter the boys name:Sanjay\n",
      "6\n",
      "Enter the boys name:Iliyas\n",
      "6\n"
     ]
    }
   ],
   "source": [
    "city=[\"Pune\",\"Mumbai\",\"Karad\",\"Sangali\",\"Sankeshwar\"]\n",
    "girls=[]\n",
    "boys=[]\n",
    "for x in city:\n",
    "    if x==\"Pune\":\n",
    "        for y in range(3):\n",
    "            g=input(\"Enter the girls name:\")\n",
    "            girls.append(g)\n",
    "            ab=len(g)\n",
    "            print(ab)\n",
    "            \n",
    "    elif x==\"Mumbai\":\n",
    "        for y in range(5):\n",
    "            b=input(\"Enter the boys name:\")\n",
    "            boys.append(b)\n",
    "            ab=len(b)\n",
    "            print(ab)"
   ]
  },
  {
   "cell_type": "code",
   "execution_count": 17,
   "metadata": {},
   "outputs": [
    {
     "name": "stdout",
     "output_type": "stream",
     "text": [
      "Condtion is wrong\n",
      "Enter the girls name:Asha\n",
      "Lenght count: 4\n",
      "Enter the marks:87\n",
      "Enter the marks:77\n",
      "Enter the marks:87\n",
      "Enter the marks:98\n",
      "Enter the girls name:Ayisha\n",
      "Lenght count: 6\n",
      "Enter the marks:77\n",
      "Enter the marks:74\n",
      "Enter the marks:87\n",
      "Enter the marks:78\n",
      "Enter the marks:88\n",
      "Enter the marks:98\n",
      "Enter the girls name:Anjali\n",
      "Lenght count: 6\n",
      "Enter the marks:99\n",
      "Enter the marks:78\n",
      "Enter the marks:41\n",
      "Enter the marks:54\n",
      "Enter the marks:65\n",
      "Enter the marks:77\n",
      "Condtion is wrong\n",
      "Condtion is wrong\n"
     ]
    }
   ],
   "source": [
    "city=[\"Athani\",\"Pune\",\"Mumabai\",\"Ankali\"]\n",
    "marks=[]\n",
    "for x in city:\n",
    "    if x==\"Pune\":\n",
    "        for x in range(3):\n",
    "            name=input(\"Enter the girls name:\")\n",
    "            m=len(name)\n",
    "            print(\"Lenght count:\",m)\n",
    "            for x in range(m):\n",
    "                p=int(input(\"Enter the marks:\"))\n",
    "                marks.append(p)\n",
    "                \n",
    "    elif x==\"Mumbai\":\n",
    "        for x in range(5):\n",
    "            name1=input(\"Enter the girls name:\")\n",
    "            n=len(name1)\n",
    "            print(\"Lenght count:\",n)\n",
    "            for x in range(n):\n",
    "                p1=int(input(\"Enter the marks:\"))\n",
    "                marks.append(p1)\n",
    "    else:\n",
    "        print(\"Condtion is wrong\")"
   ]
  },
  {
   "cell_type": "code",
   "execution_count": 24,
   "metadata": {},
   "outputs": [
    {
     "name": "stdout",
     "output_type": "stream",
     "text": [
      "Enter the names:Anusha\n",
      "Enter the marks:47\n",
      "Enter the marks:74\n",
      "Enter the marks:77\n",
      "Enter the marks:87\n",
      "Enter the marks:88\n",
      "Total is odd: 373\n",
      "Enter the names:Aniket\n",
      "Enter the marks:74\n",
      "Enter the marks:87\n",
      "Enter the marks:74\n",
      "Enter the marks:77\n",
      "Enter the marks:77\n",
      "Total is odd: 389\n",
      "Enter the names:Deepak\n",
      "Enter the marks:74\n",
      "Enter the marks:54\n",
      "Enter the marks:65\n",
      "Enter the marks:89\n",
      "Enter the marks:56\n",
      "Total is even: 338\n",
      "Enter the names:Hema\n",
      "Enter the marks:63\n",
      "Enter the marks:69\n",
      "Enter the marks:96\n",
      "Enter the marks:85\n",
      "Enter the marks:58\n",
      "Total is odd: 371\n",
      "Enter the names:Fharas\n",
      "Enter the marks:88\n",
      "Enter the marks:56\n",
      "Enter the marks:55\n",
      "Enter the marks:65\n",
      "Enter the marks:22\n",
      "Total is even: 286\n"
     ]
    }
   ],
   "source": [
    "p2=[]\n",
    "p3=[]\n",
    "s1=[]\n",
    "s2=[]\n",
    "\n",
    "for x in range(5):\n",
    "    name=input(\"Enter the names:\")\n",
    "    a=len(name)\n",
    "    \n",
    "    if a%2==0:\n",
    "        for x in range(5):\n",
    "            p1=int(input(\"Enter the marks:\"))\n",
    "            p2.append(p1)\n",
    "        k=sum(p2)\n",
    "        s1.append(k)\n",
    "        if k%2==0:\n",
    "            print(\"Total is even:\",k)\n",
    "        else:\n",
    "            print(\"Total is odd:\",k)\n",
    "        p2.clear()\n",
    "        \n",
    "    elif a%2!=0:\n",
    "        for x in range(3):\n",
    "            p1=int(input(\"Enter the marks:\"))\n",
    "            p3.append(p1)\n",
    "        k1=sum(p3)\n",
    "        s2.append(k1)\n",
    "        if k1%2==0:\n",
    "            print(\"Total is even:\",k1)\n",
    "        else:\n",
    "            print(\"Total is odd:\",k1)\n",
    "        s.clear()"
   ]
  },
  {
   "cell_type": "code",
   "execution_count": 25,
   "metadata": {},
   "outputs": [
    {
     "name": "stdout",
     "output_type": "stream",
     "text": [
      "Enter the name:Anjuu\n",
      "Enter the salary:2000\n",
      "1st Class with 12% GST\n",
      "Tax: 240.0\n",
      "Total salary is : 1760.0\n",
      "Enter the name:Ganga\n",
      "Enter the salary:8000\n",
      "3rd class with GST 18%\n",
      "Tax: 1440.0\n",
      "Total salary is : 6560.0\n",
      "Enter the name:Asha\n",
      "Enter the salary:2400\n",
      "1st Class with 12% GST\n",
      "Tax: 288.0\n",
      "Total salary is : 2112.0\n",
      "Enter the name:Ayisha\n",
      "Enter the salary:2300\n",
      "1st Class with 12% GST\n",
      "Tax: 276.0\n",
      "Total salary is : 2024.0\n",
      "Enter the name:Renu\n",
      "Enter the salary:10000\n",
      "3rd class with GST 18%\n",
      "Tax: 1800.0\n",
      "Total salary is : 8200.0\n"
     ]
    }
   ],
   "source": [
    "a=[]\n",
    "for x in range(5):\n",
    "    name=input(\"Enter the name:\")\n",
    "    salary=int(input(\"Enter the salary:\"))\n",
    "    a.append(name)\n",
    "    \n",
    "    if 1000<salary<=3000:\n",
    "        print(\"1st Class with 12% GST\")\n",
    "        v=salary*(12/100)\n",
    "        t=salary-v\n",
    "        print(\"Tax:\",v)\n",
    "        print(\"Total salary is :\",t)\n",
    "        \n",
    "    elif 3000<salary<=7000:\n",
    "        print(\"2nd class with GST 15%\")\n",
    "        v1=salary*(15/100)\n",
    "        t1=salary-v1\n",
    "        print(\"Tax:\",v1)\n",
    "        print(\"Total salary is :\",t1)\n",
    "    \n",
    "    elif 7000<salary<=10000:\n",
    "        print(\"3rd class with GST 18%\")\n",
    "        v2=salary*(18/100)\n",
    "        t2=salary-v2\n",
    "        print(\"Tax:\",v2)\n",
    "        print(\"Total salary is :\",t2)\n",
    "        \n",
    "    else:\n",
    "        print(\"He is not employee....\")    "
   ]
  },
  {
   "cell_type": "code",
   "execution_count": 26,
   "metadata": {},
   "outputs": [
    {
     "name": "stdout",
     "output_type": "stream",
     "text": [
      "Enter the subjects:3\n",
      "Enter the marks:78\n",
      "Enter the marks:58\n",
      "Enter the marks:74\n",
      "My total marks: 210\n",
      "My average is: 70.0\n",
      "[78, 58, 74]\n",
      "70.04\n",
      "Enter the subjects:2\n",
      "Enter the marks:45\n",
      "Enter the marks:47\n",
      "My total marks: 92\n",
      "My average is: 46.0\n",
      "[45, 47]\n",
      "46.02\n",
      "Enter the subjects:2\n",
      "Enter the marks:44\n",
      "Enter the marks:54\n",
      "My total marks: 98\n",
      "My average is: 49.0\n",
      "[44, 54]\n",
      "49.02\n",
      "Enter the subjects:2\n",
      "Enter the marks:41\n",
      "Enter the marks:54\n",
      "My total marks: 95\n",
      "My average is: 47.5\n",
      "[41, 54]\n",
      "47.52\n",
      "Enter the subjects:2\n",
      "Enter the marks:44\n",
      "Enter the marks:54\n",
      "My total marks: 98\n",
      "My average is: 49.0\n",
      "[44, 54]\n",
      "49.02\n"
     ]
    }
   ],
   "source": [
    "stud=[\"Annu\",\"Kajal\",\"Aniket\",\"Soumya\",\"Asha\"]\n",
    "marks=[]\n",
    "t1=[]\n",
    "t2=[]\n",
    "t3=[]\n",
    "for x in stud:\n",
    "    count=int(input(\"Enter the subjects:\"))\n",
    "    for y in range(count):\n",
    "        m=int(input(\"Enter the marks:\"))\n",
    "        marks.append(m)\n",
    "    total=sum(marks)\n",
    "    avg=total/count\n",
    "    print(\"My total marks:\",total)\n",
    "    print(\"My average is:\",avg)\n",
    "    print(marks)\n",
    "    if avg<=50:\n",
    "        t1=0.02+avg\n",
    "        marks.append(t1)\n",
    "        print(t1)\n",
    "        marks.clear()\n",
    "    elif avg>=50 and avg<=75:\n",
    "        t2=0.04+avg\n",
    "        marks.append(t2)\n",
    "        print(t2)\n",
    "        marks.clear()\n",
    "    elif avg>=75:\n",
    "        t3=0.07+avg\n",
    "        marks.append(t3)\n",
    "        print(t3)\n",
    "        marks.clear()\n",
    "    else:\n",
    "        print(\"Not student\")        "
   ]
  },
  {
   "cell_type": "code",
   "execution_count": 27,
   "metadata": {},
   "outputs": [
    {
     "name": "stdout",
     "output_type": "stream",
     "text": [
      "Enter the Females employeesAnnu\n",
      "Enter the Males employeesSatish\n",
      "Enter the Females employeesdipika\n",
      "Enter the Males employeesShubham\n",
      "Enter the Females employeesSoumya\n",
      "Enter the Males employeesShiva\n",
      "Enter the 10th marks:78\n",
      "Enter the 12th marks:98\n",
      "My 10th marks is: 78\n",
      "My 12th marks is: 98\n",
      "Enter the 10th marks:74\n",
      "Enter the 12th marks:87\n",
      "My 10th marks is: 74\n",
      "My 12th marks is: 87\n",
      "Enter the 10th marks:98\n",
      "Enter the 12th marks:55\n",
      "My 10th marks is: 98\n",
      "My 12th marks is: 55\n",
      "My 10th total marks: 250\n",
      "My 10th average is: 83.33333333333333\n",
      "My 12th total marks: 240\n",
      "My 12th average is: 80.0\n",
      "Payment is 18000\n",
      "[78, 74, 98, 250]\n"
     ]
    }
   ],
   "source": [
    "city=[\"Pune\"]\n",
    "marks1=[]\n",
    "marks2=[]\n",
    "t1=[]\n",
    "t2=[]\n",
    "avgg=[]\n",
    "for x in city:\n",
    "    if x==\"Pune\":\n",
    "        for z in \"ABC\":\n",
    "            c1=input(\"Enter the Females employees\")\n",
    "            c2=input(\"Enter the Males employees\")\n",
    "        for y in range(3):\n",
    "            m1=int(input(\"Enter the 10th marks:\"))\n",
    "            m2=int(input(\"Enter the 12th marks:\"))\n",
    "            marks1.append(m1)\n",
    "            marks2.append(m2)\n",
    "            print(\"My 10th marks is:\",m1)\n",
    "            print(\"My 12th marks is:\",m2)\n",
    "    t1=sum(marks1)\n",
    "    t2=sum(marks2)\n",
    "    avg1=t1/3\n",
    "    avg2=t2/3\n",
    "    print(\"My 10th total marks:\",t1)\n",
    "    marks1.append(t1)\n",
    "    print(\"My 10th average is:\",avg1)\n",
    "    avgg.append(avg1)\n",
    "    print(\"My 12th total marks:\",t2)\n",
    "    marks2.append(t2)\n",
    "    print(\"My 12th average is:\",avg2)\n",
    "    avgg.append(avg2)\n",
    "    if avg1<=50 and avg2<=50:\n",
    "        print(\"Payment is 10,000\")\n",
    "    elif avg1>=50 and avg2<=75:\n",
    "        print(\"Payment is 12000\")\n",
    "    elif avg1>=75 and avg2<=100:\n",
    "        print(\"Payment is 18000\")\n",
    "    else:\n",
    "        print(\"He or She is not employee\")    \n",
    "    print(marks1)"
   ]
  },
  {
   "cell_type": "code",
   "execution_count": 28,
   "metadata": {},
   "outputs": [
    {
     "name": "stdout",
     "output_type": "stream",
     "text": [
      "Enter the Females employeesShardha\n",
      "Enter the Females employeesShravani\n",
      "Enter the Females employeesSoumya\n",
      "Enter the 10th marks:45\n",
      "Enter the 12th marks:54\n",
      "My 10th marks is: 45\n",
      "My 12th marks is: 54\n",
      "Enter the 10th marks:99\n",
      "Enter the 12th marks:65\n",
      "My 10th marks is: 99\n",
      "My 12th marks is: 65\n",
      "Enter the 10th marks:58\n",
      "Enter the 12th marks:78\n",
      "My 10th marks is: 58\n",
      "My 12th marks is: 78\n",
      "My 10th total marks: 202\n",
      "My 10th average is: 67.33333333333333\n",
      "My 12th total marks: 197\n",
      "My 12th average is: 65.66666666666667\n",
      "Payment is 12000\n",
      "12000.05\n",
      "[45, 99, 58, 202]\n"
     ]
    }
   ],
   "source": [
    "city=[\"Pune\"]\n",
    "marks1=[]\n",
    "marks2=[]\n",
    "t1=[]\n",
    "t2=[]\n",
    "avgg=[]\n",
    "sal=[]\n",
    "for x in city:\n",
    "    if x==\"Pune\":\n",
    "        for z in \"ABC\":\n",
    "            c1=input(\"Enter the Females employees\")\n",
    "        for y in range(3):\n",
    "            m1=int(input(\"Enter the 10th marks:\"))\n",
    "            m2=int(input(\"Enter the 12th marks:\"))\n",
    "            marks1.append(m1)\n",
    "            marks2.append(m2)\n",
    "            print(\"My 10th marks is:\",m1)\n",
    "            print(\"My 12th marks is:\",m2)\n",
    "    t1=sum(marks1)\n",
    "    t2=sum(marks2)\n",
    "    avg1=t1/3\n",
    "    avg2=t2/3\n",
    "    print(\"My 10th total marks:\",t1)\n",
    "    marks1.append(t1)\n",
    "    print(\"My 10th average is:\",avg1)\n",
    "    avgg.append(avg1)\n",
    "    print(\"My 12th total marks:\",t2)\n",
    "    marks2.append(t2)\n",
    "    print(\"My 12th average is:\",avg2)\n",
    "    avgg.append(avg2)\n",
    "    if avg1<=50 and avg2<=50:\n",
    "        print(\"Payment is 10,000\")\n",
    "        sal=0.05+10000\n",
    "        print(sal)\n",
    "    elif avg1>=50 and avg2<=75:\n",
    "        print(\"Payment is 12000\")\n",
    "        sal=0.05+12000\n",
    "        print(sal)\n",
    "    elif avg1>=75 and avg2<=100:\n",
    "        print(\"Payment is 18000\")\n",
    "        sal=0.05+18000\n",
    "        print(sal)\n",
    "    else:\n",
    "        print(\"He or She is not employee\")    \n",
    "    print(marks1)"
   ]
  },
  {
   "cell_type": "code",
   "execution_count": null,
   "metadata": {},
   "outputs": [],
   "source": []
  }
 ],
 "metadata": {
  "kernelspec": {
   "display_name": "Python 3",
   "language": "python",
   "name": "python3"
  },
  "language_info": {
   "codemirror_mode": {
    "name": "ipython",
    "version": 3
   },
   "file_extension": ".py",
   "mimetype": "text/x-python",
   "name": "python",
   "nbconvert_exporter": "python",
   "pygments_lexer": "ipython3",
   "version": "3.6.5"
  }
 },
 "nbformat": 4,
 "nbformat_minor": 2
}
