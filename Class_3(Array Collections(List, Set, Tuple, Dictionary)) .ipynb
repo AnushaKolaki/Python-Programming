{
 "cells": [
  {
   "cell_type": "markdown",
   "metadata": {},
   "source": [
    "# List"
   ]
  },
  {
   "cell_type": "code",
   "execution_count": 1,
   "metadata": {},
   "outputs": [
    {
     "name": "stdout",
     "output_type": "stream",
     "text": [
      "['pune', 'Satar', 'Mumbai', 'Banglore']\n"
     ]
    }
   ],
   "source": [
    "a=[\"pune\",\"Satar\",\"Mumbai\",\"Banglore\"]\n",
    "print(a)"
   ]
  },
  {
   "cell_type": "code",
   "execution_count": 8,
   "metadata": {},
   "outputs": [
    {
     "name": "stdout",
     "output_type": "stream",
     "text": [
      "['pune', 'Satar', 'Mumbai', 'Banglore', 'nipani']\n"
     ]
    }
   ],
   "source": [
    "a.append(\"nipani\")\n",
    "print(a)"
   ]
  },
  {
   "cell_type": "code",
   "execution_count": 9,
   "metadata": {},
   "outputs": [
    {
     "name": "stdout",
     "output_type": "stream",
     "text": [
      "['Sangali', 'pune', 'Satar', 'Mumbai', 'Banglore', 'nipani']\n"
     ]
    }
   ],
   "source": [
    "a.insert(0,\"Sangali\")\n",
    "print(a)"
   ]
  },
  {
   "cell_type": "code",
   "execution_count": 10,
   "metadata": {},
   "outputs": [
    {
     "name": "stdout",
     "output_type": "stream",
     "text": [
      "['Sangali', 'pune', 'Satar', 'Mumbai', 'Banglore']\n"
     ]
    }
   ],
   "source": [
    "a.remove(\"nipani\")\n",
    "print(a)"
   ]
  },
  {
   "cell_type": "code",
   "execution_count": 11,
   "metadata": {},
   "outputs": [
    {
     "name": "stdout",
     "output_type": "stream",
     "text": [
      "['Sangali', 'pune', 'Satar', 'Mumbai']\n"
     ]
    }
   ],
   "source": [
    "a.pop()\n",
    "print(a)"
   ]
  },
  {
   "cell_type": "code",
   "execution_count": 16,
   "metadata": {},
   "outputs": [
    {
     "name": "stdout",
     "output_type": "stream",
     "text": [
      "['pune', 'Satar', 'Mumbai', 'Banglore']\n"
     ]
    }
   ],
   "source": [
    "a=[\"pune\",\"Satar\",\"Mumbai\",\"Banglore\"]\n",
    "print(a)"
   ]
  },
  {
   "cell_type": "code",
   "execution_count": 17,
   "metadata": {},
   "outputs": [
    {
     "data": {
      "text/plain": [
       "'pune'"
      ]
     },
     "execution_count": 17,
     "metadata": {},
     "output_type": "execute_result"
    }
   ],
   "source": [
    "a[0]\n",
    "    "
   ]
  },
  {
   "cell_type": "code",
   "execution_count": 18,
   "metadata": {},
   "outputs": [
    {
     "name": "stdout",
     "output_type": "stream",
     "text": [
      "['pune', 'Satar']\n"
     ]
    }
   ],
   "source": [
    "print(a[:2])"
   ]
  },
  {
   "cell_type": "code",
   "execution_count": 19,
   "metadata": {},
   "outputs": [
    {
     "data": {
      "text/plain": [
       "'Banglore'"
      ]
     },
     "execution_count": 19,
     "metadata": {},
     "output_type": "execute_result"
    }
   ],
   "source": [
    "ab=a[3]\n",
    "ab"
   ]
  },
  {
   "cell_type": "code",
   "execution_count": 20,
   "metadata": {},
   "outputs": [
    {
     "data": {
      "text/plain": [
       "'Banglore'"
      ]
     },
     "execution_count": 20,
     "metadata": {},
     "output_type": "execute_result"
    }
   ],
   "source": [
    "a[-1]"
   ]
  },
  {
   "cell_type": "code",
   "execution_count": 21,
   "metadata": {},
   "outputs": [
    {
     "data": {
      "text/plain": [
       "'Satar'"
      ]
     },
     "execution_count": 21,
     "metadata": {},
     "output_type": "execute_result"
    }
   ],
   "source": [
    "a[-3]"
   ]
  },
  {
   "cell_type": "code",
   "execution_count": 22,
   "metadata": {},
   "outputs": [
    {
     "data": {
      "text/plain": [
       "['pune']"
      ]
     },
     "execution_count": 22,
     "metadata": {},
     "output_type": "execute_result"
    }
   ],
   "source": [
    "a[0:-3]"
   ]
  },
  {
   "cell_type": "code",
   "execution_count": 23,
   "metadata": {},
   "outputs": [
    {
     "data": {
      "text/plain": [
       "['pune', 'Satar']"
      ]
     },
     "execution_count": 23,
     "metadata": {},
     "output_type": "execute_result"
    }
   ],
   "source": [
    "a[0:-2]"
   ]
  },
  {
   "cell_type": "code",
   "execution_count": 35,
   "metadata": {},
   "outputs": [
    {
     "name": "stdout",
     "output_type": "stream",
     "text": [
      "['pune', 'Satar', 'Mumbai', 'Banglore']\n"
     ]
    }
   ],
   "source": [
    "a=[\"pune\",\"Satar\",\"Mumbai\",\"Banglore\"]\n",
    "print(a)"
   ]
  },
  {
   "cell_type": "code",
   "execution_count": 39,
   "metadata": {},
   "outputs": [
    {
     "name": "stdout",
     "output_type": "stream",
     "text": [
      "Enter the password:456\n",
      "ML\n"
     ]
    }
   ],
   "source": [
    "city=[\"Nipani\",\"Satar\",\"Balguam\",\"Banglore\"]\n",
    "pas=int(input(\"Enter the password:\"))\n",
    "if city==\"Satar\" and pas==\"456\":\n",
    "    print(\"AI\")\n",
    "else:\n",
    "    print(\"ML\")"
   ]
  },
  {
   "cell_type": "code",
   "execution_count": 43,
   "metadata": {},
   "outputs": [
    {
     "data": {
      "text/plain": [
       "(['mango', 'banana', 'graps', 'cherry', 'strawberry'],\n",
       " ['pink', 'red', 'black', 'white', 'yellow'])"
      ]
     },
     "execution_count": 43,
     "metadata": {},
     "output_type": "execute_result"
    }
   ],
   "source": [
    "list1=[\"mango\",\"banana\",\"graps\",\"cherry\",\"strawberry\"]\n",
    "list2=[\"pink\",\"red\",\"black\",\"white\",\"yellow\"]\n",
    "list1,list2"
   ]
  },
  {
   "cell_type": "code",
   "execution_count": 44,
   "metadata": {},
   "outputs": [
    {
     "data": {
      "text/plain": [
       "['mango',\n",
       " 'banana',\n",
       " 'graps',\n",
       " 'cherry',\n",
       " 'strawberry',\n",
       " 'pink',\n",
       " 'red',\n",
       " 'black',\n",
       " 'white',\n",
       " 'yellow']"
      ]
     },
     "execution_count": 44,
     "metadata": {},
     "output_type": "execute_result"
    }
   ],
   "source": [
    "list1=[\"mango\",\"banana\",\"graps\",\"cherry\",\"strawberry\"]\n",
    "list2=[\"pink\",\"red\",\"black\",\"white\",\"yellow\"]\n",
    "list1+list2"
   ]
  },
  {
   "cell_type": "code",
   "execution_count": 54,
   "metadata": {},
   "outputs": [],
   "source": [
    "list1=[\"mango\",\"banana\",\"graps\",\"cherry\",\"strawberry\"]\n",
    "list2=[\"pink\",\"red\",\"black\",\"white\",\"yellow\"]\n",
    "list1.append(\"watermilon\")"
   ]
  },
  {
   "cell_type": "code",
   "execution_count": 55,
   "metadata": {
    "scrolled": true
   },
   "outputs": [
    {
     "data": {
      "text/plain": [
       "['mango', 'banana', 'graps', 'cherry', 'strawberry', 'watermilon']"
      ]
     },
     "execution_count": 55,
     "metadata": {},
     "output_type": "execute_result"
    }
   ],
   "source": [
    "list1"
   ]
  },
  {
   "cell_type": "code",
   "execution_count": 59,
   "metadata": {},
   "outputs": [
    {
     "data": {
      "text/plain": [
       "['pink', 'blue', 'red', 'black', 'white', 'yellow']"
      ]
     },
     "execution_count": 59,
     "metadata": {},
     "output_type": "execute_result"
    }
   ],
   "source": [
    "list1=[\"mango\",\"banana\",\"graps\",\"cherry\",\"strawberry\"]\n",
    "list2=[\"pink\",\"red\",\"black\",\"white\",\"yellow\"]\n",
    "list2.insert(1,\"blue\")\n",
    "list2"
   ]
  },
  {
   "cell_type": "code",
   "execution_count": 52,
   "metadata": {},
   "outputs": [
    {
     "data": {
      "text/plain": [
       "['pink', 'blue', 'red', 'black', 'white']"
      ]
     },
     "execution_count": 52,
     "metadata": {},
     "output_type": "execute_result"
    }
   ],
   "source": [
    "list2.remove(\"yellow\")\n",
    "list2"
   ]
  },
  {
   "cell_type": "code",
   "execution_count": 56,
   "metadata": {},
   "outputs": [
    {
     "data": {
      "text/plain": [
       "['mango', 'banana', 'graps', 'cherry', 'strawberry']"
      ]
     },
     "execution_count": 56,
     "metadata": {},
     "output_type": "execute_result"
    }
   ],
   "source": [
    "list1.pop()\n",
    "list1"
   ]
  },
  {
   "cell_type": "code",
   "execution_count": 57,
   "metadata": {},
   "outputs": [
    {
     "name": "stdout",
     "output_type": "stream",
     "text": [
      "5\n"
     ]
    }
   ],
   "source": [
    "print(len(list1))"
   ]
  },
  {
   "cell_type": "code",
   "execution_count": 60,
   "metadata": {},
   "outputs": [
    {
     "name": "stdout",
     "output_type": "stream",
     "text": [
      "6\n"
     ]
    }
   ],
   "source": [
    "print(len(list2))"
   ]
  },
  {
   "cell_type": "code",
   "execution_count": 63,
   "metadata": {},
   "outputs": [
    {
     "name": "stdout",
     "output_type": "stream",
     "text": [
      "mango\n",
      "banana\n",
      "graps\n",
      "cherry\n",
      "strawberry\n"
     ]
    }
   ],
   "source": [
    "list1=[\"mango\",\"banana\",\"graps\",\"cherry\",\"strawberry\"]\n",
    "for i in list1:\n",
    "    print(i)"
   ]
  },
  {
   "cell_type": "code",
   "execution_count": 70,
   "metadata": {},
   "outputs": [
    {
     "name": "stdout",
     "output_type": "stream",
     "text": [
      "mango\n",
      "banana\n",
      "graps\n",
      "cherry\n",
      "strawberry\n"
     ]
    }
   ],
   "source": [
    "list1=[\"mango\",\"banana\",\"graps\",\"cherry\",\"strawberry\"]\n",
    "for i in range(len(list1)):\n",
    "    print(list1[i])"
   ]
  },
  {
   "cell_type": "code",
   "execution_count": 72,
   "metadata": {},
   "outputs": [
    {
     "name": "stdout",
     "output_type": "stream",
     "text": [
      "['mango', 'banana']\n"
     ]
    }
   ],
   "source": [
    "list1=[\"mango\",\"banana\",\"graps\",\"cherry\",\"strawberry\"]\n",
    "print(list1[:2])"
   ]
  },
  {
   "cell_type": "code",
   "execution_count": 73,
   "metadata": {},
   "outputs": [
    {
     "name": "stdout",
     "output_type": "stream",
     "text": [
      "['banana']\n"
     ]
    }
   ],
   "source": [
    "list1=[\"mango\",\"banana\",\"graps\",\"cherry\",\"strawberry\"]\n",
    "print(list1[1:2])"
   ]
  },
  {
   "cell_type": "code",
   "execution_count": 74,
   "metadata": {},
   "outputs": [
    {
     "name": "stdout",
     "output_type": "stream",
     "text": [
      "strawberry\n"
     ]
    }
   ],
   "source": [
    "list1=[\"mango\",\"banana\",\"graps\",\"cherry\",\"strawberry\"]\n",
    "print(list1[-1])"
   ]
  },
  {
   "cell_type": "code",
   "execution_count": 78,
   "metadata": {},
   "outputs": [
    {
     "name": "stdout",
     "output_type": "stream",
     "text": [
      "[]\n"
     ]
    }
   ],
   "source": [
    "list1=[\"mango\",\"graps\",\"cherry\",\"strawberry\"]\n",
    "print(list1[1:-3])"
   ]
  },
  {
   "cell_type": "code",
   "execution_count": 79,
   "metadata": {},
   "outputs": [
    {
     "name": "stdout",
     "output_type": "stream",
     "text": [
      "[]\n"
     ]
    }
   ],
   "source": [
    "list1=[\"mango\",\"banana\",\"graps\",\"cherry\",\"strawberry\"]\n",
    "print(list1[2:-3])"
   ]
  },
  {
   "cell_type": "code",
   "execution_count": 77,
   "metadata": {},
   "outputs": [
    {
     "name": "stdout",
     "output_type": "stream",
     "text": [
      "[]\n"
     ]
    }
   ],
   "source": [
    "list1=[\"mango\",\"banana\",\"graps\",\"cherry\",\"strawberry\"]\n",
    "print(list1[1:-5])"
   ]
  },
  {
   "cell_type": "code",
   "execution_count": 80,
   "metadata": {},
   "outputs": [],
   "source": [
    "list1=[\"mango\",\"banana\",\"graps\",\"cherry\",\"strawberry\"]\n",
    "list1.remove(\"banana\")"
   ]
  },
  {
   "cell_type": "code",
   "execution_count": 81,
   "metadata": {},
   "outputs": [
    {
     "data": {
      "text/plain": [
       "['mango', 'graps', 'cherry', 'strawberry']"
      ]
     },
     "execution_count": 81,
     "metadata": {},
     "output_type": "execute_result"
    }
   ],
   "source": [
    "list1"
   ]
  },
  {
   "cell_type": "code",
   "execution_count": 82,
   "metadata": {},
   "outputs": [
    {
     "data": {
      "text/plain": [
       "['anusha', 'renu', 'aniket', 'aditi', 'ashwik']"
      ]
     },
     "execution_count": 82,
     "metadata": {},
     "output_type": "execute_result"
    }
   ],
   "source": [
    "l1=[\"anusha\",\"renu\",\"aniket\",\"aditi\",\"ashwik\"]\n",
    "l1"
   ]
  },
  {
   "cell_type": "code",
   "execution_count": 95,
   "metadata": {},
   "outputs": [
    {
     "name": "stdout",
     "output_type": "stream",
     "text": [
      "anusha\n",
      "renu\n",
      "aniket\n",
      "aditi\n",
      "ashwik\n"
     ]
    }
   ],
   "source": [
    "l1=[\"anusha\",\"renu\",\"aniket\",\"aditi\",\"ashwik\"]\n",
    "for i in l1:\n",
    "    print(i)"
   ]
  },
  {
   "cell_type": "code",
   "execution_count": 3,
   "metadata": {},
   "outputs": [
    {
     "name": "stdout",
     "output_type": "stream",
     "text": [
      "Enter the 1st city:npn\n",
      "Enter the 2nd city:gkk\n",
      "['npn', 'gkk']\n",
      "npn\n",
      "n\n",
      "p\n",
      "n\n",
      "gkk\n",
      "g\n",
      "k\n",
      "k\n"
     ]
    }
   ],
   "source": [
    "a=input(\"Enter the 1st city:\")\n",
    "b=input(\"Enter the 2nd city:\")\n",
    "c=[a,b]\n",
    "print(c)\n",
    "for x in c:\n",
    "    print(x)\n",
    "    for y in x:\n",
    "        print(y)"
   ]
  },
  {
   "cell_type": "code",
   "execution_count": 5,
   "metadata": {},
   "outputs": [
    {
     "name": "stdout",
     "output_type": "stream",
     "text": [
      "Enter the 1st city:ppp\n",
      "Enter the 2nd city:lll\n",
      "['ppp', 'lll']\n",
      "ppp\n",
      "p\n",
      "p\n",
      "p\n",
      "lll\n",
      "l\n",
      "l\n",
      "l\n"
     ]
    }
   ],
   "source": [
    "a=input(\"Enter the 1st city:\")\n",
    "b=input(\"Enter the 2nd city:\")\n",
    "c=[a,b]\n",
    "print(c)\n",
    "for x in c:\n",
    "    print(x)\n",
    "    for y in x:\n",
    "        print(y)"
   ]
  },
  {
   "cell_type": "code",
   "execution_count": 6,
   "metadata": {},
   "outputs": [
    {
     "data": {
      "text/plain": [
       "['pune', 'Satar', 'Mumbai', 'Banglore']"
      ]
     },
     "execution_count": 6,
     "metadata": {},
     "output_type": "execute_result"
    }
   ],
   "source": [
    "a=[\"pune\",\"Satar\",\"Mumbai\",\"Banglore\"]\n",
    "a"
   ]
  },
  {
   "cell_type": "code",
   "execution_count": 7,
   "metadata": {},
   "outputs": [
    {
     "data": {
      "text/plain": [
       "['pune', 'Satar', 'Mumbai', 'Banglore', 'nipani']"
      ]
     },
     "execution_count": 7,
     "metadata": {},
     "output_type": "execute_result"
    }
   ],
   "source": [
    "a.append(\"nipani\")\n",
    "a"
   ]
  },
  {
   "cell_type": "code",
   "execution_count": 5,
   "metadata": {},
   "outputs": [
    {
     "name": "stdout",
     "output_type": "stream",
     "text": [
      "['punepu', 'mumbaipu', 'nashikpu', 'delhipu']\n"
     ]
    }
   ],
   "source": [
    "b=[]\n",
    "a=[\"pune\",\"mumbai\",\"nashik\",\"delhi\"]\n",
    "a1=a[0]\n",
    "b1=a1[:-2]\n",
    "for x in a:\n",
    "    p1=x+b1\n",
    "    b.append(p1)\n",
    "print(b)"
   ]
  },
  {
   "cell_type": "code",
   "execution_count": null,
   "metadata": {},
   "outputs": [
    {
     "name": "stdout",
     "output_type": "stream",
     "text": [
      "Enter the subject:3\n",
      "Enter marks:45\n"
     ]
    }
   ],
   "source": [
    "marks=[]\n",
    "a=[\"Delhi\",\"Karad\",\"Sangali\",\"Banglore\"]\n",
    "for x in a:\n",
    "    if x==\"Delhi\":\n",
    "        count=int(input(\"Enter the subject:\"))\n",
    "        for y in range(count):\n",
    "            m=int(input(\"Enter marks:\"))\n",
    "            marks.append(m)\n",
    "        print(\"My marks:\",marks)\n",
    "        total=sum(marks)\n",
    "        avg=total/count\n",
    "        print(\"my total marks\",total)\n",
    "        print(\"my total average\",avg)"
   ]
  },
  {
   "cell_type": "code",
   "execution_count": 16,
   "metadata": {},
   "outputs": [
    {
     "name": "stdout",
     "output_type": "stream",
     "text": [
      "['punene', 'mumbaine', 'nashikne', 'delhine']\n"
     ]
    }
   ],
   "source": [
    "b=[]\n",
    "a=[\"pune\",\"mumbai\",\"nashik\",\"delhi\"]\n",
    "a1=a[0]\n",
    "b1=a1[2:4]\n",
    "for x in a:\n",
    "    p1=x+b1\n",
    "    b.append(p1)\n",
    "print(b)"
   ]
  },
  {
   "cell_type": "code",
   "execution_count": 1,
   "metadata": {},
   "outputs": [
    {
     "name": "stdout",
     "output_type": "stream",
     "text": [
      "Enter the subject:2\n",
      "Enter marks:45\n",
      "Enter marks:74\n",
      "My marks: [45, 74]\n"
     ]
    }
   ],
   "source": [
    "marks=[]\n",
    "a=[\"Delhi\",\"Karad\",\"Sangali\",\"Banglore\"]\n",
    "for x in a:\n",
    "    if x==\"Delhi\":\n",
    "        count=int(input(\"Enter the subject:\"))\n",
    "        for y in range(count):\n",
    "            m=int(input(\"Enter marks:\"))\n",
    "            marks.append(m)\n",
    "        print(\"My marks:\",marks)"
   ]
  },
  {
   "cell_type": "markdown",
   "metadata": {},
   "source": [
    "# Tuple"
   ]
  },
  {
   "cell_type": "code",
   "execution_count": 2,
   "metadata": {},
   "outputs": [
    {
     "name": "stdout",
     "output_type": "stream",
     "text": [
      "('Annu', 'Anvi', 'Vishwa', 'Aniket')\n"
     ]
    }
   ],
   "source": [
    "a=(\"Annu\",\"Anvi\",\"Vishwa\",\"Aniket\")\n",
    "print(a)"
   ]
  },
  {
   "cell_type": "code",
   "execution_count": 3,
   "metadata": {},
   "outputs": [
    {
     "name": "stdout",
     "output_type": "stream",
     "text": [
      "('Annu', 'Aniket')\n",
      "('Kolaki', 'Jotawar')\n"
     ]
    }
   ],
   "source": [
    "a=(\"Annu\",\"Aniket\")\n",
    "b=(\"Kolaki\",\"Jotawar\")\n",
    "print(a)\n",
    "print(b)"
   ]
  },
  {
   "cell_type": "code",
   "execution_count": 4,
   "metadata": {},
   "outputs": [
    {
     "data": {
      "text/plain": [
       "2"
      ]
     },
     "execution_count": 4,
     "metadata": {},
     "output_type": "execute_result"
    }
   ],
   "source": [
    "len(a)"
   ]
  },
  {
   "cell_type": "code",
   "execution_count": 5,
   "metadata": {},
   "outputs": [
    {
     "data": {
      "text/plain": [
       "('Annu', 'Aniket', 'Kolaki', 'Jotawar')"
      ]
     },
     "execution_count": 5,
     "metadata": {},
     "output_type": "execute_result"
    }
   ],
   "source": [
    "a+b"
   ]
  },
  {
   "cell_type": "code",
   "execution_count": 6,
   "metadata": {},
   "outputs": [
    {
     "name": "stdout",
     "output_type": "stream",
     "text": [
      "['Annu', 'Aniket']\n",
      "['Mallikarjun']\n",
      "['Kolaki', 'Kolaki']\n"
     ]
    }
   ],
   "source": [
    "a=[\"Annu\",\"Aniket\"]\n",
    "b=[\"Mallikarjun\"]\n",
    "c=[\"Kolaki\",\"Kolaki\"]\n",
    "print(a)\n",
    "print(b)\n",
    "print(c)"
   ]
  },
  {
   "cell_type": "code",
   "execution_count": 7,
   "metadata": {},
   "outputs": [
    {
     "name": "stdout",
     "output_type": "stream",
     "text": [
      "Annu Mallikarjun Kolaki\n"
     ]
    }
   ],
   "source": [
    "print(a[0],b[0],c[0])"
   ]
  },
  {
   "cell_type": "code",
   "execution_count": 8,
   "metadata": {},
   "outputs": [
    {
     "name": "stdout",
     "output_type": "stream",
     "text": [
      "Annu Kolaki\n"
     ]
    }
   ],
   "source": [
    "print(a[0],c[0])"
   ]
  },
  {
   "cell_type": "markdown",
   "metadata": {},
   "source": [
    "# Set"
   ]
  },
  {
   "cell_type": "code",
   "execution_count": 1,
   "metadata": {},
   "outputs": [
    {
     "data": {
      "text/plain": [
       "{'Annu', 'Vishuu'}"
      ]
     },
     "execution_count": 1,
     "metadata": {},
     "output_type": "execute_result"
    }
   ],
   "source": [
    "set={\"Annu\",\"Vishuu\"}\n",
    "set"
   ]
  },
  {
   "cell_type": "code",
   "execution_count": 2,
   "metadata": {},
   "outputs": [
    {
     "data": {
      "text/plain": [
       "{'Annu', 'Vishuu'}"
      ]
     },
     "execution_count": 2,
     "metadata": {},
     "output_type": "execute_result"
    }
   ],
   "source": [
    "set.discard(\"AnVi\")\n",
    "set"
   ]
  },
  {
   "cell_type": "code",
   "execution_count": 3,
   "metadata": {},
   "outputs": [
    {
     "ename": "KeyError",
     "evalue": "'AnVi'",
     "output_type": "error",
     "traceback": [
      "\u001b[1;31m---------------------------------------------------------------------------\u001b[0m",
      "\u001b[1;31mKeyError\u001b[0m                                  Traceback (most recent call last)",
      "\u001b[1;32m<ipython-input-3-118f755d0d2d>\u001b[0m in \u001b[0;36m<module>\u001b[1;34m()\u001b[0m\n\u001b[1;32m----> 1\u001b[1;33m \u001b[0mset\u001b[0m\u001b[1;33m.\u001b[0m\u001b[0mremove\u001b[0m\u001b[1;33m(\u001b[0m\u001b[1;34m\"AnVi\"\u001b[0m\u001b[1;33m)\u001b[0m\u001b[1;33m\u001b[0m\u001b[0m\n\u001b[0m\u001b[0;32m      2\u001b[0m \u001b[0mset\u001b[0m\u001b[1;33m\u001b[0m\u001b[0m\n",
      "\u001b[1;31mKeyError\u001b[0m: 'AnVi'"
     ]
    }
   ],
   "source": [
    "set.remove(\"AnVi\")\n",
    "set"
   ]
  },
  {
   "cell_type": "code",
   "execution_count": 4,
   "metadata": {},
   "outputs": [
    {
     "data": {
      "text/plain": [
       "{'Vishuu'}"
      ]
     },
     "execution_count": 4,
     "metadata": {},
     "output_type": "execute_result"
    }
   ],
   "source": [
    "set.remove(\"Annu\")\n",
    "set"
   ]
  },
  {
   "cell_type": "code",
   "execution_count": null,
   "metadata": {},
   "outputs": [],
   "source": []
  }
 ],
 "metadata": {
  "kernelspec": {
   "display_name": "Python 3",
   "language": "python",
   "name": "python3"
  },
  "language_info": {
   "codemirror_mode": {
    "name": "ipython",
    "version": 3
   },
   "file_extension": ".py",
   "mimetype": "text/x-python",
   "name": "python",
   "nbconvert_exporter": "python",
   "pygments_lexer": "ipython3",
   "version": "3.6.5"
  }
 },
 "nbformat": 4,
 "nbformat_minor": 2
}
