{
 "cells": [
  {
   "cell_type": "markdown",
   "metadata": {},
   "source": [
    "# Function"
   ]
  },
  {
   "cell_type": "code",
   "execution_count": 1,
   "metadata": {},
   "outputs": [
    {
     "name": "stdout",
     "output_type": "stream",
     "text": [
      "RacksonsIT\n"
     ]
    }
   ],
   "source": [
    "def person():\n",
    "    print(\"RacksonsIT\")\n",
    "    \n",
    "person()"
   ]
  },
  {
   "cell_type": "code",
   "execution_count": null,
   "metadata": {},
   "outputs": [],
   "source": [
    "def person():\n",
    "    print(\"RacksonsIT\")"
   ]
  },
  {
   "cell_type": "code",
   "execution_count": 2,
   "metadata": {},
   "outputs": [
    {
     "name": "stdout",
     "output_type": "stream",
     "text": [
      "RacksonsIT\n"
     ]
    }
   ],
   "source": [
    "person()"
   ]
  },
  {
   "cell_type": "code",
   "execution_count": 9,
   "metadata": {},
   "outputs": [
    {
     "name": "stdout",
     "output_type": "stream",
     "text": [
      "2\n",
      "3\n"
     ]
    }
   ],
   "source": [
    "def annu(x,y):\n",
    "    print(x)\n",
    "    print(y)\n",
    "    \n",
    "annu(2,3)"
   ]
  },
  {
   "cell_type": "code",
   "execution_count": 10,
   "metadata": {},
   "outputs": [
    {
     "name": "stdout",
     "output_type": "stream",
     "text": [
      "2\n",
      "5\n"
     ]
    }
   ],
   "source": [
    "def annu(x,y=5):\n",
    "    print(x)\n",
    "    print(y)\n",
    "    \n",
    "annu(2)"
   ]
  },
  {
   "cell_type": "code",
   "execution_count": 11,
   "metadata": {},
   "outputs": [
    {
     "name": "stdout",
     "output_type": "stream",
     "text": [
      "9\n",
      "5\n"
     ]
    }
   ],
   "source": [
    "def annu(x=9,y=5):\n",
    "    print(x)\n",
    "    print(y)\n",
    "    \n",
    "annu()"
   ]
  },
  {
   "cell_type": "code",
   "execution_count": 12,
   "metadata": {},
   "outputs": [
    {
     "name": "stdout",
     "output_type": "stream",
     "text": [
      "RacksonsIT\n"
     ]
    }
   ],
   "source": [
    "def annu():\n",
    "    print(\"RacksonsIT\")\n",
    "    \n",
    "annu()"
   ]
  },
  {
   "cell_type": "code",
   "execution_count": 13,
   "metadata": {},
   "outputs": [
    {
     "name": "stdout",
     "output_type": "stream",
     "text": [
      "RacksonsIT\n",
      "30\n"
     ]
    }
   ],
   "source": [
    "def annu():\n",
    "    print(\"RacksonsIT\")\n",
    "    a=10\n",
    "    b=20\n",
    "    c=a+b\n",
    "    print(c)\n",
    "    \n",
    "annu()"
   ]
  },
  {
   "cell_type": "code",
   "execution_count": 15,
   "metadata": {},
   "outputs": [
    {
     "name": "stdout",
     "output_type": "stream",
     "text": [
      "9\n"
     ]
    }
   ],
   "source": [
    "def annu(x=5,y=4):\n",
    "    z=x+y\n",
    "    print(z)\n",
    "    \n",
    "annu()"
   ]
  },
  {
   "cell_type": "code",
   "execution_count": 14,
   "metadata": {},
   "outputs": [
    {
     "name": "stdout",
     "output_type": "stream",
     "text": [
      "RacksonsIT\n",
      "30\n"
     ]
    }
   ],
   "source": [
    "def annu(a,b):\n",
    "    print(\"RacksonsIT\")\n",
    "    c=a+b\n",
    "    print(c)\n",
    "annu(10,20)"
   ]
  },
  {
   "cell_type": "code",
   "execution_count": 7,
   "metadata": {},
   "outputs": [
    {
     "name": "stdout",
     "output_type": "stream",
     "text": [
      "Even\n"
     ]
    }
   ],
   "source": [
    "def oddeven(a):\n",
    "    if a%2==0:\n",
    "        print(\"Even\")\n",
    "    else:\n",
    "        print(\"Odd\")\n",
    "        \n",
    "oddeven(2)"
   ]
  },
  {
   "cell_type": "code",
   "execution_count": 8,
   "metadata": {},
   "outputs": [
    {
     "name": "stdout",
     "output_type": "stream",
     "text": [
      "Enter the a value:5\n",
      "Odd\n"
     ]
    }
   ],
   "source": [
    "# input from user\n",
    "\n",
    "def oddeven(a):\n",
    "    if a%2==0:\n",
    "        print(\"Even\")\n",
    "    else:\n",
    "        print(\"Odd\")\n",
    "        \n",
    "a=int(input(\"Enter the a value:\"))\n",
    "oddeven(a)"
   ]
  },
  {
   "cell_type": "code",
   "execution_count": 1,
   "metadata": {},
   "outputs": [
    {
     "name": "stdout",
     "output_type": "stream",
     "text": [
      "Apple\n"
     ]
    }
   ],
   "source": [
    "def fruit():\n",
    "    print(\"Apple\")\n",
    "    \n",
    "fruit()"
   ]
  },
  {
   "cell_type": "code",
   "execution_count": 2,
   "metadata": {},
   "outputs": [
    {
     "name": "stdout",
     "output_type": "stream",
     "text": [
      "Apple\n",
      "Apple\n",
      "Apple\n"
     ]
    }
   ],
   "source": [
    "def fruit():\n",
    "    for f in range(3):\n",
    "        print(\"Apple\")\n",
    "    \n",
    "fruit()"
   ]
  },
  {
   "cell_type": "code",
   "execution_count": 3,
   "metadata": {},
   "outputs": [
    {
     "name": "stdout",
     "output_type": "stream",
     "text": [
      "30\n"
     ]
    }
   ],
   "source": [
    "def school():\n",
    "    a=10\n",
    "    b=20\n",
    "    c=a+b\n",
    "    print(c)\n",
    "    \n",
    "school()"
   ]
  },
  {
   "cell_type": "code",
   "execution_count": 4,
   "metadata": {},
   "outputs": [
    {
     "name": "stdout",
     "output_type": "stream",
     "text": [
      "a+b= 20\n"
     ]
    }
   ],
   "source": [
    "def school(a,b):\n",
    "    print(\"a+b=\",a+b)\n",
    "    \n",
    "school(10,10)"
   ]
  },
  {
   "cell_type": "code",
   "execution_count": 6,
   "metadata": {},
   "outputs": [
    {
     "name": "stdout",
     "output_type": "stream",
     "text": [
      "Enter the a value:12\n",
      "Enter the b value:19\n",
      "a+b= 31\n"
     ]
    }
   ],
   "source": [
    "def school(a,b):\n",
    "    print(\"a+b=\",a+b)\n",
    "\n",
    "a=int(input(\"Enter the a value:\"))\n",
    "b=int(input(\"Enter the b value:\"))\n",
    "school(a,b)"
   ]
  },
  {
   "cell_type": "code",
   "execution_count": 7,
   "metadata": {},
   "outputs": [
    {
     "name": "stdout",
     "output_type": "stream",
     "text": [
      "ML\n",
      "ML\n"
     ]
    }
   ],
   "source": [
    "def college():\n",
    "    for x in range(2):\n",
    "        print(\"ML\")\n",
    "        \n",
    "college()"
   ]
  },
  {
   "cell_type": "code",
   "execution_count": 9,
   "metadata": {},
   "outputs": [
    {
     "name": "stdout",
     "output_type": "stream",
     "text": [
      "Enter the a value:12\n",
      "Enter the b value:21\n",
      "33\n"
     ]
    }
   ],
   "source": [
    "def mouse():\n",
    "    a=int(input(\"Enter the a value:\"))\n",
    "    b=int(input(\"Enter the b value:\"))\n",
    "    c=a+b\n",
    "    print(c)\n",
    "    \n",
    "mouse()"
   ]
  },
  {
   "cell_type": "code",
   "execution_count": 10,
   "metadata": {},
   "outputs": [
    {
     "name": "stdout",
     "output_type": "stream",
     "text": [
      "Enter the a value:21\n",
      "Enter the b value:32\n",
      "53\n",
      "Enter the a value:11\n",
      "Enter the b value:22\n",
      "33\n",
      "Enter the a value:09\n",
      "Enter the b value:90\n",
      "99\n"
     ]
    }
   ],
   "source": [
    "def mouse():\n",
    "    for v in range(3):\n",
    "        a=int(input(\"Enter the a value:\"))\n",
    "        b=int(input(\"Enter the b value:\"))\n",
    "        c=a+b\n",
    "        print(c)\n",
    "    \n",
    "mouse()"
   ]
  },
  {
   "cell_type": "code",
   "execution_count": 11,
   "metadata": {},
   "outputs": [
    {
     "name": "stdout",
     "output_type": "stream",
     "text": [
      "Annu10112022\n"
     ]
    }
   ],
   "source": [
    "def gang():\n",
    "    c=a+b\n",
    "    print(c)\n",
    "    \n",
    "a=\"Annu\"\n",
    "b=\"10112022\"\n",
    "\n",
    "gang()"
   ]
  },
  {
   "cell_type": "code",
   "execution_count": 13,
   "metadata": {},
   "outputs": [
    {
     "name": "stdout",
     "output_type": "stream",
     "text": [
      "Enter the name:Annu\n",
      "Enter the ..:10/11/1999\n",
      "Annu10/11/1999\n"
     ]
    }
   ],
   "source": [
    "def gang():\n",
    "    c=a+b\n",
    "    print(c)\n",
    "    \n",
    "a=input(\"Enter the name:\")\n",
    "b=input(\"Enter the ..:\")\n",
    "gang()"
   ]
  },
  {
   "cell_type": "code",
   "execution_count": 17,
   "metadata": {},
   "outputs": [
    {
     "name": "stdout",
     "output_type": "stream",
     "text": [
      "99\n"
     ]
    }
   ],
   "source": [
    "def rcub():\n",
    "    m=school(45,54)\n",
    "    print(m)\n",
    "    \n",
    "rcub()"
   ]
  },
  {
   "cell_type": "code",
   "execution_count": 26,
   "metadata": {},
   "outputs": [
    {
     "name": "stdout",
     "output_type": "stream",
     "text": [
      "24\n"
     ]
    }
   ],
   "source": [
    "def npn():\n",
    "    v=pune(7,8)\n",
    "    print(v+9)\n",
    "    \n",
    "npn()"
   ]
  },
  {
   "cell_type": "code",
   "execution_count": 5,
   "metadata": {},
   "outputs": [
    {
     "name": "stdout",
     "output_type": "stream",
     "text": [
      "Enter the marks:87\n",
      "Enter the marks:78\n",
      "Enter the marks:85\n",
      "Enter the marks:89\n",
      "Enter the marks:44\n",
      "I am from lap function: [87, 78, 85, 89, 44]\n"
     ]
    }
   ],
   "source": [
    "def top():\n",
    "    d=lap(\"Annu\",5)\n",
    "    print(\"I am from lap function:\",d)\n",
    "    \n",
    "top()"
   ]
  },
  {
   "cell_type": "code",
   "execution_count": 3,
   "metadata": {},
   "outputs": [
    {
     "name": "stdout",
     "output_type": "stream",
     "text": [
      "Enter the subject count:2\n",
      "Enter the marks:45\n",
      "Enter the marks:78\n",
      "[45, 78]\n",
      "Enter the subject count:2\n",
      "Enter the marks:88\n",
      "Enter the marks:78\n",
      "[88, 78]\n"
     ]
    }
   ],
   "source": [
    "def stud():\n",
    "    c1=[]\n",
    "    for x in range(2):\n",
    "        c=int(input(\"Enter the subject count:\"))\n",
    "        for z in range(c):\n",
    "            m=int(input(\"Enter the marks:\"))\n",
    "            c1.append(m)\n",
    "        print(c1)\n",
    "        c1.clear()\n",
    "stud()"
   ]
  },
  {
   "cell_type": "code",
   "execution_count": 16,
   "metadata": {},
   "outputs": [
    {
     "name": "stdout",
     "output_type": "stream",
     "text": [
      "DS\n",
      "DS\n"
     ]
    }
   ],
   "source": [
    "def python():\n",
    "    for i in range(2):\n",
    "        print(\"DS\")\n",
    "        \n",
    "python()"
   ]
  },
  {
   "cell_type": "code",
   "execution_count": 17,
   "metadata": {},
   "outputs": [
    {
     "name": "stdout",
     "output_type": "stream",
     "text": [
      "Nik\n",
      "Neha\n",
      "Diksha\n",
      "Arohi\n",
      "Ira\n"
     ]
    }
   ],
   "source": [
    "def xyz(girls):\n",
    "    for x in girls:\n",
    "        print(x)\n",
    "Names=[\"Nik\",\"Neha\",\"Diksha\",\"Arohi\",\"Ira\"]\n",
    "xyz(Names)"
   ]
  },
  {
   "cell_type": "code",
   "execution_count": 18,
   "metadata": {},
   "outputs": [
    {
     "name": "stdout",
     "output_type": "stream",
     "text": [
      "Enter the number:2\n",
      "Even\n",
      "[2]\n",
      "Enter the number:5\n",
      "Odd\n",
      "[5]\n"
     ]
    }
   ],
   "source": [
    "a=[]\n",
    "for x in range(2):\n",
    "    b=int(input(\"Enter the number:\"))\n",
    "    \n",
    "    def oddeven(b):\n",
    "        if b%2==0:\n",
    "            print(\"Even\")\n",
    "            a.append(b)\n",
    "            print(a)\n",
    "            a.clear()\n",
    "        else:\n",
    "            print(\"Odd\")\n",
    "            a.append(b)\n",
    "            print(a)\n",
    "    oddeven(b)"
   ]
  },
  {
   "cell_type": "code",
   "execution_count": 1,
   "metadata": {},
   "outputs": [
    {
     "name": "stdout",
     "output_type": "stream",
     "text": [
      "Enter the number:2\n",
      "Enter the name:Sangeeta\n",
      "Enter the Mobile No:789654123\n",
      "Enter the city name:Sanhali\n",
      "Name: Sangeeta ____ MobileNo: 789654123 ____ City: Sanhali ______\n",
      "___________________________________\n",
      "Enter the name:Nita\n",
      "Enter the Mobile No:5896321477\n",
      "Enter the city name:Karad\n",
      "Name: Nita ____ MobileNo: 5896321477 ____ City: Karad ______\n",
      "___________________________________\n"
     ]
    }
   ],
   "source": [
    "n=int(input(\"Enter the number:\"))\n",
    "\n",
    "for x in range(n):\n",
    "    def reg_book():\n",
    "        Name=input(\"Enter the name:\")\n",
    "        MobileNo=int(input(\"Enter the Mobile No:\"))\n",
    "        City=input(\"Enter the city name:\")\n",
    "        print(\"Name:\",Name,\"____\",\"MobileNo:\",MobileNo,\"____\",\"City:\",City,\"______\")\n",
    "        print(\"___________________________________\")\n",
    "        \n",
    "    reg_book()"
   ]
  },
  {
   "cell_type": "code",
   "execution_count": 2,
   "metadata": {},
   "outputs": [
    {
     "name": "stdout",
     "output_type": "stream",
     "text": [
      "Enter the a value:45\n",
      "Enter the b value:41\n",
      "86\n",
      "4\n",
      "1845\n",
      "1.0975609756097562\n"
     ]
    }
   ],
   "source": [
    "def add(a,b):\n",
    "    c=a+b\n",
    "    print(c)\n",
    "    \n",
    "def sub(a,b):\n",
    "    d=a-b\n",
    "    print(d)\n",
    "    \n",
    "def mul(a,b):\n",
    "    e=a*b\n",
    "    print(e)\n",
    "    \n",
    "def div(a,b):\n",
    "    f=a/b\n",
    "    print(f)\n",
    "    \n",
    "a=int(input(\"Enter the a value:\"))\n",
    "b=int(input(\"Enter the b value:\"))\n",
    "add(a,b)\n",
    "sub(a,b)\n",
    "mul(a,b)\n",
    "div(a,b)"
   ]
  },
  {
   "cell_type": "code",
   "execution_count": 3,
   "metadata": {},
   "outputs": [
    {
     "name": "stdout",
     "output_type": "stream",
     "text": [
      "30\n",
      "0\n",
      "10\n",
      "1.0\n"
     ]
    }
   ],
   "source": [
    "def add(a,b):\n",
    "    c=a+b\n",
    "    print(c)\n",
    "    \n",
    "def sub(a,b):\n",
    "    d=a-b\n",
    "    print(d)\n",
    "    \n",
    "def mul(a,b):\n",
    "    e=a*b\n",
    "    print(e)\n",
    "    \n",
    "def div(a,b):\n",
    "    f=a/b\n",
    "    print(f)\n",
    "    \n",
    "add(10,20)\n",
    "sub(41,41)\n",
    "mul(2,5)\n",
    "div(4,4)"
   ]
  },
  {
   "cell_type": "code",
   "execution_count": null,
   "metadata": {},
   "outputs": [],
   "source": []
  }
 ],
 "metadata": {
  "kernelspec": {
   "display_name": "Python 3",
   "language": "python",
   "name": "python3"
  },
  "language_info": {
   "codemirror_mode": {
    "name": "ipython",
    "version": 3
   },
   "file_extension": ".py",
   "mimetype": "text/x-python",
   "name": "python",
   "nbconvert_exporter": "python",
   "pygments_lexer": "ipython3",
   "version": "3.6.5"
  }
 },
 "nbformat": 4,
 "nbformat_minor": 2
}
