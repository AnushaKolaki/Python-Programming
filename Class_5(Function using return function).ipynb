{
 "cells": [
  {
   "cell_type": "markdown",
   "metadata": {},
   "source": [
    "# Function using return function"
   ]
  },
  {
   "cell_type": "code",
   "execution_count": 20,
   "metadata": {},
   "outputs": [],
   "source": [
    "def a(c1,c2):\n",
    "    c3=c1+c2\n",
    "    return c1"
   ]
  },
  {
   "cell_type": "code",
   "execution_count": 21,
   "metadata": {},
   "outputs": [],
   "source": [
    "def b(x1,x2):\n",
    "    x3=x1-x2\n",
    "    return x2"
   ]
  },
  {
   "cell_type": "code",
   "execution_count": 22,
   "metadata": {},
   "outputs": [],
   "source": [
    "def c(z1,z2):\n",
    "    z3=z1+z2\n",
    "    return z3"
   ]
  },
  {
   "cell_type": "code",
   "execution_count": 19,
   "metadata": {},
   "outputs": [
    {
     "name": "stdout",
     "output_type": "stream",
     "text": [
      "1\n",
      "4\n",
      "11\n"
     ]
    }
   ],
   "source": [
    "def tot():\n",
    "    s=a(1,2)\n",
    "    d=b(3,4)\n",
    "    p=c(5,6)\n",
    "    print(s)\n",
    "    print(d)\n",
    "    print(p)\n",
    "    \n",
    "tot()   "
   ]
  },
  {
   "cell_type": "code",
   "execution_count": 23,
   "metadata": {},
   "outputs": [
    {
     "name": "stdout",
     "output_type": "stream",
     "text": [
      "1\n",
      "4\n",
      "11\n"
     ]
    }
   ],
   "source": [
    "def tot():\n",
    "    s=a(1,2)\n",
    "    print(s)\n",
    "    d=b(3,4)\n",
    "    print(d)\n",
    "    p=c(5,6)\n",
    "    print(p)\n",
    "    \n",
    "tot()   "
   ]
  },
  {
   "cell_type": "code",
   "execution_count": 1,
   "metadata": {},
   "outputs": [
    {
     "data": {
      "text/plain": [
       "60"
      ]
     },
     "execution_count": 1,
     "metadata": {},
     "output_type": "execute_result"
    }
   ],
   "source": [
    "def school(a,b):\n",
    "    c=a+b\n",
    "    return c\n",
    "\n",
    "school(10,50)    "
   ]
  },
  {
   "cell_type": "code",
   "execution_count": 2,
   "metadata": {},
   "outputs": [
    {
     "data": {
      "text/plain": [
       "3"
      ]
     },
     "execution_count": 2,
     "metadata": {},
     "output_type": "execute_result"
    }
   ],
   "source": [
    "def pune(s,b):\n",
    "    z=s+b\n",
    "    return z\n",
    "\n",
    "pune(1,2)"
   ]
  },
  {
   "cell_type": "code",
   "execution_count": 3,
   "metadata": {},
   "outputs": [
    {
     "name": "stdout",
     "output_type": "stream",
     "text": [
      "Enter the marks:52\n",
      "Enter the marks:45\n",
      "Enter the marks:45\n",
      "Enter the marks:87\n",
      "Enter the marks:74\n"
     ]
    },
    {
     "data": {
      "text/plain": [
       "[52, 45, 45, 87, 74]"
      ]
     },
     "execution_count": 3,
     "metadata": {},
     "output_type": "execute_result"
    }
   ],
   "source": [
    "def lap(name,reg):\n",
    "    l=[]\n",
    "    if name==\"Annu\" or name==\"Renu\" or name==\"Asha\":\n",
    "        for x in range(reg):\n",
    "            m=int(input(\"Enter the marks:\"))\n",
    "            l.append(m)\n",
    "    else:\n",
    "        print(\"Has been not successfully\")\n",
    "        \n",
    "    return l\n",
    "\n",
    "lap(\"Annu\",5)"
   ]
  },
  {
   "cell_type": "code",
   "execution_count": 1,
   "metadata": {},
   "outputs": [
    {
     "name": "stdout",
     "output_type": "stream",
     "text": [
      "Enter the name:Annu\n",
      "Enter the reg no:3\n",
      "Enter the marks:78\n",
      "Enter the marks:87\n",
      "Enter the marks:98\n"
     ]
    },
    {
     "data": {
      "text/plain": [
       "[78, 87, 98]"
      ]
     },
     "execution_count": 1,
     "metadata": {},
     "output_type": "execute_result"
    }
   ],
   "source": [
    "def lap(name,reg):\n",
    "    l=[]\n",
    "    if name==\"Annu\" or name==\"Renu\" or name==\"Asha\":\n",
    "        for x in range(reg):\n",
    "            m=int(input(\"Enter the marks:\"))\n",
    "            l.append(m)\n",
    "    else:\n",
    "        print(\"Has been not successfully\")\n",
    "        \n",
    "    return l\n",
    "\n",
    "name=input(\"Enter the name:\")\n",
    "reg=int(input(\"Enter the reg no:\"))\n",
    "lap(name,reg)"
   ]
  },
  {
   "cell_type": "code",
   "execution_count": 1,
   "metadata": {},
   "outputs": [],
   "source": [
    "def fun():\n",
    "    a=int(input(\"Enter the number:\"))\n",
    "    b=int(input(\"Enter the number:\"))\n",
    "    c=a+b\n",
    "    return(c)"
   ]
  },
  {
   "cell_type": "code",
   "execution_count": 2,
   "metadata": {},
   "outputs": [
    {
     "name": "stdout",
     "output_type": "stream",
     "text": [
      "Enter the number:12\n",
      "Enter the number:21\n",
      "This is from fun function: 33\n"
     ]
    }
   ],
   "source": [
    "def xyz():\n",
    "    v=fun()\n",
    "    print(\"This is from fun function:\",v)\n",
    "    \n",
    "xyz()"
   ]
  },
  {
   "cell_type": "code",
   "execution_count": 3,
   "metadata": {},
   "outputs": [],
   "source": [
    "def hii(a,b):\n",
    "    c=a*b\n",
    "    return(c)"
   ]
  },
  {
   "cell_type": "code",
   "execution_count": 4,
   "metadata": {},
   "outputs": [
    {
     "name": "stdout",
     "output_type": "stream",
     "text": [
      "This is from hii function: 2\n"
     ]
    }
   ],
   "source": [
    "def hello():\n",
    "    j=hii(1,2)\n",
    "    print(\"This is from hii function:\",j)\n",
    "    \n",
    "hello()"
   ]
  },
  {
   "cell_type": "code",
   "execution_count": 5,
   "metadata": {},
   "outputs": [],
   "source": [
    "def rat(a,b):\n",
    "    c=a+b\n",
    "    return c"
   ]
  },
  {
   "cell_type": "code",
   "execution_count": 6,
   "metadata": {},
   "outputs": [
    {
     "name": "stdout",
     "output_type": "stream",
     "text": [
      "30\n"
     ]
    }
   ],
   "source": [
    "def lap():\n",
    "    v=rat(10,20)\n",
    "    print(v)\n",
    "    \n",
    "lap()"
   ]
  },
  {
   "cell_type": "code",
   "execution_count": 7,
   "metadata": {},
   "outputs": [],
   "source": [
    "def a(s1,s2):\n",
    "    s3=s1+s2\n",
    "    return s1"
   ]
  },
  {
   "cell_type": "code",
   "execution_count": 8,
   "metadata": {},
   "outputs": [],
   "source": [
    "def b(x1,x2):\n",
    "    x3=x1-x2\n",
    "    return x2"
   ]
  },
  {
   "cell_type": "code",
   "execution_count": 9,
   "metadata": {},
   "outputs": [],
   "source": [
    "def c(d1,d2):\n",
    "    d3=d1*d2\n",
    "    return d3"
   ]
  },
  {
   "cell_type": "code",
   "execution_count": 10,
   "metadata": {},
   "outputs": [
    {
     "name": "stdout",
     "output_type": "stream",
     "text": [
      "1\n",
      "1\n",
      "10\n"
     ]
    }
   ],
   "source": [
    "def tot():\n",
    "    p=a(1,2)\n",
    "    print(p)\n",
    "    q=b(3,1)\n",
    "    print(q)\n",
    "    r=c(2,5)\n",
    "    print(r)\n",
    "    \n",
    "tot()"
   ]
  },
  {
   "cell_type": "code",
   "execution_count": 11,
   "metadata": {},
   "outputs": [],
   "source": [
    "def small():\n",
    "    s=int(input(\"Enter the value:\"))\n",
    "    d=int(input(\"Enter the value:\"))\n",
    "    z=s-d\n",
    "    return z"
   ]
  },
  {
   "cell_type": "code",
   "execution_count": 12,
   "metadata": {},
   "outputs": [
    {
     "name": "stdout",
     "output_type": "stream",
     "text": [
      "Enter the value:10\n",
      "Enter the value:14\n",
      "This is from small function -4\n"
     ]
    }
   ],
   "source": [
    "def big():\n",
    "    x=small()\n",
    "    print(\"This is from small function\",x)\n",
    "    \n",
    "big()"
   ]
  },
  {
   "cell_type": "code",
   "execution_count": null,
   "metadata": {},
   "outputs": [],
   "source": []
  }
 ],
 "metadata": {
  "kernelspec": {
   "display_name": "Python 3",
   "language": "python",
   "name": "python3"
  },
  "language_info": {
   "codemirror_mode": {
    "name": "ipython",
    "version": 3
   },
   "file_extension": ".py",
   "mimetype": "text/x-python",
   "name": "python",
   "nbconvert_exporter": "python",
   "pygments_lexer": "ipython3",
   "version": "3.6.5"
  }
 },
 "nbformat": 4,
 "nbformat_minor": 2
}
