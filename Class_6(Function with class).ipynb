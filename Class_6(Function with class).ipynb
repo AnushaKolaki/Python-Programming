{
 "cells": [
  {
   "cell_type": "markdown",
   "metadata": {},
   "source": [
    "# Class"
   ]
  },
  {
   "cell_type": "code",
   "execution_count": 4,
   "metadata": {},
   "outputs": [
    {
     "name": "stdout",
     "output_type": "stream",
     "text": [
      "Addition of a&b is: 30\n"
     ]
    }
   ],
   "source": [
    "class school():\n",
    "    def lap(self):\n",
    "        self.a=10\n",
    "        self.b=20\n",
    "        self.c=self.a+self.b\n",
    "        print(\"Addition of a&b is:\",self.c)\n",
    "        \n",
    "s1=school()\n",
    "s1.lap()"
   ]
  },
  {
   "cell_type": "code",
   "execution_count": 5,
   "metadata": {},
   "outputs": [
    {
     "name": "stdout",
     "output_type": "stream",
     "text": [
      "Addition of a&b is: 30\n"
     ]
    }
   ],
   "source": [
    "class school():\n",
    "    def lap(self):\n",
    "        self.a=10\n",
    "        self.b=20\n",
    "        self.c=self.a+self.b\n",
    "    \n",
    "    def top(self):\n",
    "        print(\"Addition of a&b is:\",self.c)\n",
    "        \n",
    "s1=school()\n",
    "s1.lap()\n",
    "s1.top()"
   ]
  },
  {
   "cell_type": "code",
   "execution_count": 14,
   "metadata": {},
   "outputs": [
    {
     "name": "stdout",
     "output_type": "stream",
     "text": [
      "Addition of a&b is: 30\n"
     ]
    }
   ],
   "source": [
    "class school():\n",
    "    def lap(self,a,b):\n",
    "        self.a=a\n",
    "        self.b=b\n",
    "        self.c=self.a+self.b\n",
    "    \n",
    "    def top(self):\n",
    "        print(\"Addition of a&b is:\",self.c)\n",
    "        \n",
    "s1=school()\n",
    "s1.lap(10,20)\n",
    "s1.top()"
   ]
  },
  {
   "cell_type": "code",
   "execution_count": 16,
   "metadata": {},
   "outputs": [
    {
     "name": "stdout",
     "output_type": "stream",
     "text": [
      "Multiplication of p&q is: 3\n"
     ]
    }
   ],
   "source": [
    "class rack():\n",
    "    def xyz(self,p,q):\n",
    "        self.p=p\n",
    "        self.q=q\n",
    "        print(\"Multiplication of p&q is:\",self.p+self.q)\n",
    "\n",
    "w=rack()\n",
    "w.xyz(1,2)"
   ]
  },
  {
   "cell_type": "code",
   "execution_count": 18,
   "metadata": {},
   "outputs": [
    {
     "name": "stdout",
     "output_type": "stream",
     "text": [
      "Multiplication of p&q is: 2\n"
     ]
    }
   ],
   "source": [
    "class rack():\n",
    "    def xyz(self,p,q):\n",
    "        self.p=p\n",
    "        self.q=q\n",
    "        \n",
    "    def stu(self):\n",
    "        print(\"Multiplication of p&q is:\",self.p*self.q)\n",
    "\n",
    "w=rack()\n",
    "w.xyz(1,2)\n",
    "w.stu()"
   ]
  },
  {
   "cell_type": "code",
   "execution_count": 24,
   "metadata": {},
   "outputs": [
    {
     "name": "stdout",
     "output_type": "stream",
     "text": [
      "3\n",
      "3\n",
      "3\n"
     ]
    }
   ],
   "source": [
    "class gang():\n",
    "    def annu(self,a,b):\n",
    "            self.a=a\n",
    "            self.b=b\n",
    "            self.c=self.a+self.b\n",
    "            \n",
    "    def hello(self):\n",
    "        for i in range(3):\n",
    "            print(self.c)\n",
    "        \n",
    "a1=gang()\n",
    "a1.annu(1,2)\n",
    "a1.hello()"
   ]
  },
  {
   "cell_type": "code",
   "execution_count": 30,
   "metadata": {},
   "outputs": [
    {
     "name": "stdout",
     "output_type": "stream",
     "text": [
      "Pune: 3\n",
      "Pune: 3\n"
     ]
    }
   ],
   "source": [
    "class gang():\n",
    "    def annu(self,a,b):\n",
    "            self.a=a\n",
    "            self.b=b\n",
    "            self.c=self.a+self.b\n",
    "            \n",
    "    def hello(self):\n",
    "        for i in range(self.b):\n",
    "            print(\"Pune:\",self.c)\n",
    "        \n",
    "        \n",
    "a1=gang()\n",
    "a1.annu(1,2)\n",
    "a1.hello()"
   ]
  },
  {
   "cell_type": "code",
   "execution_count": 34,
   "metadata": {},
   "outputs": [
    {
     "name": "stdout",
     "output_type": "stream",
     "text": [
      "3\n",
      "3\n",
      "RacksonsIT\n",
      "9\n",
      "9\n",
      "9\n",
      "9\n",
      "9\n",
      "RacksonsIT\n",
      "8\n",
      "8\n",
      "8\n",
      "8\n",
      "8\n",
      "RacksonsIT\n"
     ]
    }
   ],
   "source": [
    "class gang():\n",
    "    def annu(self,a,b):\n",
    "            self.a=a\n",
    "            self.b=b\n",
    "            self.c=self.a+self.b\n",
    "            \n",
    "    def hello(self):\n",
    "        for i in range(self.b):\n",
    "            print(self.c)\n",
    "            \n",
    "    def hii(self):\n",
    "        print(\"RacksonsIT\")\n",
    "        \n",
    "        \n",
    "a1=gang()\n",
    "a1.annu(1,2)\n",
    "a1.hello()\n",
    "a1.hii()\n",
    "\n",
    "a2=gang()\n",
    "a2.annu(4,5)\n",
    "a2.hello()\n",
    "a2.hii()\n",
    "\n",
    "a3=gang()\n",
    "a3.annu(3,5)\n",
    "a3.hello()\n",
    "a3.hii()"
   ]
  },
  {
   "cell_type": "code",
   "execution_count": 38,
   "metadata": {},
   "outputs": [
    {
     "name": "stdout",
     "output_type": "stream",
     "text": [
      "3\n",
      "3\n",
      "Pune\n",
      "Latur\n",
      "7\n",
      "7\n",
      "7\n",
      "7\n",
      "Nipani\n"
     ]
    }
   ],
   "source": [
    "class gang():\n",
    "    def annu(self,a,b):\n",
    "            self.a=a\n",
    "            self.b=b\n",
    "            self.c=self.a+self.b\n",
    "            \n",
    "    def hello(self):\n",
    "        for i in range(self.b):\n",
    "            print(self.c)\n",
    "            \n",
    "    def hii(self,j):\n",
    "        self.j=j\n",
    "        print(self.j)\n",
    "        \n",
    "        \n",
    "a1=gang()\n",
    "a1.annu(1,2)\n",
    "a1.hello()\n",
    "a1.hii(\"Pune\")\n",
    "\n",
    "a2=gang()\n",
    "a2.annu(4,0)\n",
    "a2.hello()\n",
    "a2.hii(\"Latur\")\n",
    "\n",
    "a3=gang()\n",
    "a3.annu(3,4)\n",
    "a3.hello()\n",
    "a3.hii(\"Nipani\")"
   ]
  },
  {
   "cell_type": "code",
   "execution_count": 1,
   "metadata": {},
   "outputs": [
    {
     "name": "stdout",
     "output_type": "stream",
     "text": [
      "31\n",
      "ML\n"
     ]
    }
   ],
   "source": [
    "class person():\n",
    "    a=10\n",
    "    b=21\n",
    "    print(a+b)\n",
    "    print(\"ML\")\n",
    "    \n",
    "p=person()"
   ]
  },
  {
   "cell_type": "code",
   "execution_count": 2,
   "metadata": {},
   "outputs": [
    {
     "name": "stdout",
     "output_type": "stream",
     "text": [
      "Enter the number:2\n",
      "Enter the number:4\n",
      "Substraction of a&b is: -2\n"
     ]
    }
   ],
   "source": [
    "class gang():\n",
    "    def school(self):\n",
    "        self.a=int(input(\"Enter the number:\"))\n",
    "        self.b=int(input(\"Enter the number:\"))\n",
    "        \n",
    "    def college(self):\n",
    "        print(\"Substraction of a&b is:\",self.a-self.b)\n",
    "        \n",
    "s=gang()\n",
    "s.school()\n",
    "s.college()"
   ]
  },
  {
   "cell_type": "code",
   "execution_count": 3,
   "metadata": {},
   "outputs": [
    {
     "name": "stdout",
     "output_type": "stream",
     "text": [
      "Addition of a&b is: 30\n"
     ]
    }
   ],
   "source": [
    "class persons:\n",
    "    def add(self):\n",
    "        self.a=10\n",
    "        self.b=20\n",
    "    def tot(self):\n",
    "        print(\"Addition of a&b is:\",self.a+self.b)\n",
    "        \n",
    "p=persons()\n",
    "p.add()\n",
    "p.tot()"
   ]
  },
  {
   "cell_type": "code",
   "execution_count": 5,
   "metadata": {},
   "outputs": [],
   "source": [
    "class persons:\n",
    "    def add(self):\n",
    "        self.a=10\n",
    "        self.b=20\n",
    "    def tot(self):\n",
    "        print(\"Addition of a&b is:\",self.a+self.b)        "
   ]
  },
  {
   "cell_type": "code",
   "execution_count": 6,
   "metadata": {},
   "outputs": [
    {
     "name": "stdout",
     "output_type": "stream",
     "text": [
      "Addition of a&b is: 30\n"
     ]
    }
   ],
   "source": [
    "p=persons()\n",
    "p.add()\n",
    "p.tot()"
   ]
  },
  {
   "cell_type": "code",
   "execution_count": 7,
   "metadata": {},
   "outputs": [
    {
     "name": "stdout",
     "output_type": "stream",
     "text": [
      "Addition of a&b is: 30\n"
     ]
    }
   ],
   "source": [
    "p1=persons()\n",
    "p1.add()\n",
    "p1.tot()"
   ]
  },
  {
   "cell_type": "code",
   "execution_count": 8,
   "metadata": {},
   "outputs": [
    {
     "name": "stdout",
     "output_type": "stream",
     "text": [
      "Enter the marks:45\n",
      "Enter the marks:74\n",
      "Addition is: 119\n"
     ]
    }
   ],
   "source": [
    "class person:\n",
    "    def mouse(self,a,b):\n",
    "        self.a=a\n",
    "        self.b=b\n",
    "    def show(self):\n",
    "        print(\"Addition is:\",self.a+self.b)\n",
    "        \n",
    "p1=person()\n",
    "m1=int(input(\"Enter the marks:\"))\n",
    "m2=int(input(\"Enter the marks:\"))\n",
    "p1.mouse(m1,m2)\n",
    "p1.show()"
   ]
  },
  {
   "cell_type": "code",
   "execution_count": 9,
   "metadata": {},
   "outputs": [
    {
     "name": "stdout",
     "output_type": "stream",
     "text": [
      "Enter the number:4\n",
      "16\n"
     ]
    }
   ],
   "source": [
    "class person():\n",
    "    def mouse(self,b):\n",
    "        self.a=int(input(\"Enter the number:\"))\n",
    "        self.b=b\n",
    "        \n",
    "    def show(self):\n",
    "        print(self.a+self.b)\n",
    "        \n",
    "obj=person()\n",
    "obj.mouse(12)\n",
    "obj.show()"
   ]
  },
  {
   "cell_type": "code",
   "execution_count": 10,
   "metadata": {},
   "outputs": [
    {
     "name": "stdout",
     "output_type": "stream",
     "text": [
      "30\n"
     ]
    }
   ],
   "source": [
    "class person:\n",
    "    def xyz(self,a,b):\n",
    "        self.a=a\n",
    "        self.b=b\n",
    "    def add(self):\n",
    "        print(self.a+self.b)\n",
    "        \n",
    "p1=person()\n",
    "p1.xyz(10,20)\n",
    "p1.add()\n",
    "        "
   ]
  },
  {
   "cell_type": "code",
   "execution_count": 11,
   "metadata": {},
   "outputs": [
    {
     "name": "stdout",
     "output_type": "stream",
     "text": [
      "Enter the a value:4\n",
      "Enter the b value:1\n",
      "5\n",
      "5\n",
      "5\n",
      "5\n"
     ]
    }
   ],
   "source": [
    "class person:\n",
    "    def __init__(self):\n",
    "        self.a=int(input(\"Enter the a value:\"))\n",
    "        self.b=int(input(\"Enter the b value:\"))\n",
    "    def add(self):\n",
    "        for x in range(self.a):\n",
    "            print(self.a+self.b)\n",
    "            \n",
    "p1=person()\n",
    "p1.add()"
   ]
  },
  {
   "cell_type": "code",
   "execution_count": 12,
   "metadata": {},
   "outputs": [
    {
     "name": "stdout",
     "output_type": "stream",
     "text": [
      "Enter the a value:4\n",
      "Enter the b value:5\n",
      "9\n",
      "9\n",
      "9\n",
      "11\n",
      "12\n"
     ]
    }
   ],
   "source": [
    "class person:\n",
    "    def __init__(self):\n",
    "        self.a=int(input(\"Enter the a value:\"))\n",
    "        self.b=int(input(\"Enter the b value:\"))\n",
    "    def add(self):\n",
    "        for x in range(3):\n",
    "            print(self.a+self.b)\n",
    "    def sub(self,x,y):\n",
    "        print(x)\n",
    "        print(y)    \n",
    "            \n",
    "p1=person()\n",
    "p1.add()\n",
    "p1.sub(11,12)"
   ]
  },
  {
   "cell_type": "code",
   "execution_count": 13,
   "metadata": {},
   "outputs": [
    {
     "name": "stdout",
     "output_type": "stream",
     "text": [
      "Addition of 2 no's is: 35\n"
     ]
    }
   ],
   "source": [
    "class data:\n",
    "    def book(self,a,b):\n",
    "        self.a=a\n",
    "        self.b=b\n",
    "        self.c=self.a+self.b\n",
    "    def note(self):\n",
    "        print(\"Addition of 2 no's is:\",self.c)\n",
    "        \n",
    "d1=data()\n",
    "d1.book(14,21)\n",
    "d1.note()"
   ]
  },
  {
   "cell_type": "code",
   "execution_count": 14,
   "metadata": {},
   "outputs": [
    {
     "name": "stdout",
     "output_type": "stream",
     "text": [
      "Enter the subjects:2\n",
      "Enter the marks:89\n",
      "Enter the marks:87\n",
      "[89, 87]\n",
      "My Total marks is: 176\n",
      "My Average is: 88.0\n",
      "Enter the subjects:2\n",
      "Enter the marks:45\n",
      "Enter the marks:74\n",
      "[45, 74]\n",
      "My Total marks is: 119\n",
      "My Average is: 59.5\n",
      "Enter the subjects:2\n",
      "Enter the marks:47\n",
      "Enter the marks:74\n",
      "[47, 74]\n",
      "My Total marks is: 121\n",
      "My Average is: 60.5\n"
     ]
    }
   ],
   "source": [
    "class person:\n",
    "    def student(self):\n",
    "        self.names=[\"Anusha\",\"Aadya\",\"Amulya\"]\n",
    "        self.marks=[]\n",
    "        for x in self.names:\n",
    "            self.count=int(input(\"Enter the subjects:\"))\n",
    "            for y in range(self.count):\n",
    "                m=int(input(\"Enter the marks:\"))\n",
    "                self.marks.append(m)\n",
    "            print(self.marks)\n",
    "            self.tot=sum(self.marks)\n",
    "            print(\"My Total marks is:\",self.tot)\n",
    "            self.marks.append(self.tot)\n",
    "            self.avg=self.tot/self.count\n",
    "            print(\"My Average is:\",self.avg)\n",
    "            self.marks.append(self.avg)\n",
    "            self.marks.clear()\n",
    "        \n",
    "        \n",
    "obj=person()\n",
    "obj.student()"
   ]
  },
  {
   "cell_type": "code",
   "execution_count": 15,
   "metadata": {},
   "outputs": [
    {
     "name": "stdout",
     "output_type": "stream",
     "text": [
      "Enter the subjects:2\n",
      "Enter the marks:45\n",
      "Enter the marks:54\n",
      "[45, 54]\n",
      "My Total marks is: 99\n",
      "My Average is: 49.5\n",
      "Enter the subjects:2\n",
      "Enter the marks:74\n",
      "Enter the marks:74\n",
      "[74, 74]\n",
      "My Total marks is: 148\n",
      "My Average is: 74.0\n",
      "Enter the subjects:2\n",
      "Enter the marks:47\n",
      "Enter the marks:85\n",
      "[47, 85]\n",
      "My Total marks is: 132\n",
      "My Average is: 66.0\n"
     ]
    }
   ],
   "source": [
    "class person:\n",
    "    def __init__(self):\n",
    "        self.names=[\"Anusha\",\"Aadya\",\"Amulya\"]\n",
    "        self.marks=[]\n",
    "        for x in self.names:\n",
    "            self.count=int(input(\"Enter the subjects:\"))\n",
    "            for y in range(self.count):\n",
    "                m=int(input(\"Enter the marks:\"))\n",
    "                self.marks.append(m)\n",
    "            print(self.marks)\n",
    "            self.tot=sum(self.marks)\n",
    "            print(\"My Total marks is:\",self.tot)\n",
    "            self.marks.append(self.tot)\n",
    "            self.avg=self.tot/self.count\n",
    "            print(\"My Average is:\",self.avg)\n",
    "            self.marks.append(self.avg)\n",
    "            self.marks.clear()\n",
    "        \n",
    "        \n",
    "obj=person()"
   ]
  },
  {
   "cell_type": "code",
   "execution_count": 17,
   "metadata": {},
   "outputs": [
    {
     "name": "stdout",
     "output_type": "stream",
     "text": [
      "Enter the subjects:2\n",
      "Enter the marks:45\n",
      "Enter the marks:74\n",
      "[45, 74]\n",
      "Enter the subjects:2\n",
      "Enter the marks:78\n",
      "Enter the marks:98\n",
      "[45, 74, 78, 98]\n",
      "Enter the subjects:2\n",
      "Enter the marks:55\n",
      "Enter the marks:66\n",
      "[45, 74, 78, 98, 55, 66]\n",
      "My Total marks is: 416\n",
      "My Total marks is: 832\n",
      "My Average is: 416.0\n",
      "My Average is: 416.0\n"
     ]
    }
   ],
   "source": [
    "class person:\n",
    "    def student(self):\n",
    "        self.names=[\"Anusha\",\"Aadya\",\"Amulya\"]\n",
    "        self.marks=[]\n",
    "        self.tot=[]\n",
    "        self.avg=[]\n",
    "        for x in self.names:\n",
    "            self.count=int(input(\"Enter the subjects:\"))\n",
    "            for y in range(self.count):\n",
    "                m=int(input(\"Enter the marks:\"))\n",
    "                self.marks.append(m)\n",
    "            print(self.marks)\n",
    "        \n",
    "            \n",
    "    def total(self):\n",
    "        for y in range(self.count):\n",
    "            self.tot=sum(self.marks)\n",
    "            print(\"My Total marks is:\",self.tot)\n",
    "            self.marks.append(self.tot)\n",
    "        \n",
    "    def average(self):\n",
    "        for z in range(self.count):\n",
    "            self.avg=self.tot/self.count\n",
    "            print(\"My Average is:\",self.avg)\n",
    "            self.marks.append(self.avg)\n",
    "            self.marks.clear()\n",
    "        \n",
    "        \n",
    "obj=person()\n",
    "obj.student()\n",
    "obj.total()\n",
    "obj.average()"
   ]
  },
  {
   "cell_type": "code",
   "execution_count": null,
   "metadata": {},
   "outputs": [],
   "source": []
  }
 ],
 "metadata": {
  "kernelspec": {
   "display_name": "Python 3",
   "language": "python",
   "name": "python3"
  },
  "language_info": {
   "codemirror_mode": {
    "name": "ipython",
    "version": 3
   },
   "file_extension": ".py",
   "mimetype": "text/x-python",
   "name": "python",
   "nbconvert_exporter": "python",
   "pygments_lexer": "ipython3",
   "version": "3.6.5"
  }
 },
 "nbformat": 4,
 "nbformat_minor": 2
}
